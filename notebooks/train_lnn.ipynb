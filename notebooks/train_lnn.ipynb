{
 "cells": [
  {
   "cell_type": "code",
   "execution_count": null,
   "id": "7b6db5e3-46bd-4bc3-a41d-8cb3432a7019",
   "metadata": {
    "tags": []
   },
   "outputs": [],
   "source": [
    "# execute only if trained on cuda 11.6 // make sure it is done before starting to train\n",
    "# !pip install pytorch_lightning==1.5"
   ]
  },
  {
   "cell_type": "code",
   "execution_count": 1,
   "id": "a6471be2",
   "metadata": {},
   "outputs": [],
   "source": [
    "import os; os.chdir(\"..\")"
   ]
  },
  {
   "cell_type": "code",
   "execution_count": 2,
   "id": "df62daf6-4140-4c68-b9e2-7a06f4f61ff2",
   "metadata": {
    "tags": []
   },
   "outputs": [],
   "source": [
    "from run import main\n",
    "\n",
    "%load_ext autoreload\n",
    "%autoreload 2"
   ]
  },
  {
   "cell_type": "code",
   "execution_count": null,
   "id": "5bcfc68f-d279-40dc-beb9-1f36fd73ce58",
   "metadata": {
    "tags": []
   },
   "outputs": [],
   "source": [
    "main()"
   ]
  },
  {
   "cell_type": "code",
   "execution_count": null,
   "id": "7358d785-a0ba-4f83-95f3-474fcf954d68",
   "metadata": {
    "tags": []
   },
   "outputs": [],
   "source": [
    "from project.model import SequenceLearner"
   ]
  },
  {
   "cell_type": "code",
   "execution_count": null,
   "id": "61cd4297",
   "metadata": {},
   "outputs": [],
   "source": [
    "device = \"cpu\"\n",
    "checkpoint_path = \"checkpoints/model-lnn_units=16-lr=0.01-num_epochs=10-lnn_modified=True-v1.ckpt\""
   ]
  },
  {
   "cell_type": "code",
   "execution_count": null,
   "id": "9884b854",
   "metadata": {},
   "outputs": [],
   "source": [
    "import torch\n",
    "torch.cuda.empty_cache()"
   ]
  },
  {
   "cell_type": "code",
   "execution_count": null,
   "id": "ded103c7-0e1f-4adf-be3f-eecde3a29e28",
   "metadata": {
    "tags": []
   },
   "outputs": [],
   "source": [
    "trainer = SequenceLearner.load_from_checkpoint(\n",
    "    checkpoint_path)\n",
    "model = trainer.model\n",
    "model.to(device)\n",
    "model.eval()"
   ]
  }
 ],
 "metadata": {
  "kernelspec": {
   "display_name": "Python 3 (ipykernel)",
   "language": "python",
   "name": "python3"
  },
  "language_info": {
   "codemirror_mode": {
    "name": "ipython",
    "version": 3
   },
   "file_extension": ".py",
   "mimetype": "text/x-python",
   "name": "python",
   "nbconvert_exporter": "python",
   "pygments_lexer": "ipython3",
   "version": "3.10.0"
  }
 },
 "nbformat": 4,
 "nbformat_minor": 5
}
