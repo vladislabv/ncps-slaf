{
 "cells": [
  {
   "cell_type": "code",
   "execution_count": null,
   "id": "7b6db5e3-46bd-4bc3-a41d-8cb3432a7019",
   "metadata": {
    "tags": []
   },
   "outputs": [],
   "source": [
    "# make sure it is done before starting to train\n",
    "!cd .. && python setup.py install && pip install pytorch_lightning==1.5"
   ]
  },
  {
   "cell_type": "code",
   "execution_count": 2,
   "id": "a6471be2",
   "metadata": {},
   "outputs": [],
   "source": [
    "import os; os.chdir(r'P:\\projects\\ncps')"
   ]
  },
  {
   "cell_type": "code",
   "execution_count": 3,
   "id": "df62daf6-4140-4c68-b9e2-7a06f4f61ff2",
   "metadata": {
    "tags": []
   },
   "outputs": [],
   "source": [
    "from run import main\n",
    "\n",
    "%load_ext autoreload\n",
    "%autoreload 2"
   ]
  },
  {
   "cell_type": "code",
   "execution_count": 4,
   "id": "5bcfc68f-d279-40dc-beb9-1f36fd73ce58",
   "metadata": {
    "tags": []
   },
   "outputs": [
    {
     "name": "stderr",
     "output_type": "stream",
     "text": [
      "P:\\projects\\ncps\\run.py:25: DtypeWarning: Columns (15,16,17,18,19) have mixed types. Specify dtype option on import or set low_memory=False.\n",
      "  df = pd.read_csv(path)\n"
     ]
    },
    {
     "ename": "TypeError",
     "evalue": "'int' object is not callable",
     "output_type": "error",
     "traceback": [
      "\u001b[1;31m---------------------------------------------------------------------------\u001b[0m",
      "\u001b[1;31mTypeError\u001b[0m                                 Traceback (most recent call last)",
      "Cell \u001b[1;32mIn[4], line 1\u001b[0m\n\u001b[1;32m----> 1\u001b[0m \u001b[43mmain\u001b[49m\u001b[43m(\u001b[49m\u001b[43m)\u001b[49m\n",
      "File \u001b[1;32mP:\\projects\\ncps\\run.py:108\u001b[0m, in \u001b[0;36mmain\u001b[1;34m()\u001b[0m\n\u001b[0;32m    101\u001b[0m train_data \u001b[38;5;241m=\u001b[39m utils\u001b[38;5;241m.\u001b[39mmake_features(train_data, features\u001b[38;5;241m=\u001b[39mConfig\u001b[38;5;241m.\u001b[39mFEATURES_LIST)\n\u001b[0;32m    103\u001b[0m x_features, y_features \u001b[38;5;241m=\u001b[39m utils\u001b[38;5;241m.\u001b[39mgenerate_train_data(\n\u001b[0;32m    104\u001b[0m     train_data, features\u001b[38;5;241m=\u001b[39mConfig\u001b[38;5;241m.\u001b[39mFEATURES_LIST,\n\u001b[0;32m    105\u001b[0m     dt_from\u001b[38;5;241m=\u001b[39mConfig\u001b[38;5;241m.\u001b[39mFILTER_DT_FROM, dt_till\u001b[38;5;241m=\u001b[39mConfig\u001b[38;5;241m.\u001b[39mFILTER_DT_TILL\n\u001b[0;32m    106\u001b[0m )\n\u001b[1;32m--> 108\u001b[0m ds \u001b[38;5;241m=\u001b[39m \u001b[43mdata_utils\u001b[49m\u001b[38;5;241;43m.\u001b[39;49m\u001b[43mTensorDataset\u001b[49m\u001b[43m(\u001b[49m\n\u001b[0;32m    109\u001b[0m \u001b[43m    \u001b[49m\u001b[43mx_features\u001b[49m\u001b[43m,\u001b[49m\u001b[43m \u001b[49m\u001b[43my_features\u001b[49m\n\u001b[0;32m    110\u001b[0m \u001b[43m\u001b[49m\u001b[43m)\u001b[49m\n\u001b[0;32m    112\u001b[0m dataloader \u001b[38;5;241m=\u001b[39m data_utils\u001b[38;5;241m.\u001b[39mDataLoader(\n\u001b[0;32m    113\u001b[0m     ds,\n\u001b[0;32m    114\u001b[0m     batch_size\u001b[38;5;241m=\u001b[39mConfig\u001b[38;5;241m.\u001b[39mBATCH_SIZE \u001b[38;5;241m*\u001b[39m Config\u001b[38;5;241m.\u001b[39mVALUES_PER_DAY,\n\u001b[0;32m    115\u001b[0m     num_workers\u001b[38;5;241m=\u001b[39mConfig\u001b[38;5;241m.\u001b[39mNUM_WORKERS,\n\u001b[0;32m    116\u001b[0m     shuffle\u001b[38;5;241m=\u001b[39m\u001b[38;5;28;01mTrue\u001b[39;00m, \n\u001b[0;32m    117\u001b[0m )\n\u001b[0;32m    119\u001b[0m out_features \u001b[38;5;241m=\u001b[39m y_features\u001b[38;5;241m.\u001b[39mshape[\u001b[38;5;241m-\u001b[39m\u001b[38;5;241m1\u001b[39m]\n",
      "File \u001b[1;32mp:\\projects\\ncps\\.venv\\lib\\site-packages\\torch\\utils\\data\\dataset.py:205\u001b[0m, in \u001b[0;36mTensorDataset.__init__\u001b[1;34m(self, *tensors)\u001b[0m\n\u001b[0;32m    204\u001b[0m \u001b[38;5;28;01mdef\u001b[39;00m \u001b[38;5;21m__init__\u001b[39m(\u001b[38;5;28mself\u001b[39m, \u001b[38;5;241m*\u001b[39mtensors: Tensor) \u001b[38;5;241m-\u001b[39m\u001b[38;5;241m>\u001b[39m \u001b[38;5;28;01mNone\u001b[39;00m:\n\u001b[1;32m--> 205\u001b[0m     \u001b[38;5;28;01massert\u001b[39;00m \u001b[38;5;28;43mall\u001b[39;49m\u001b[43m(\u001b[49m\n\u001b[0;32m    206\u001b[0m \u001b[43m        \u001b[49m\u001b[43mtensors\u001b[49m\u001b[43m[\u001b[49m\u001b[38;5;241;43m0\u001b[39;49m\u001b[43m]\u001b[49m\u001b[38;5;241;43m.\u001b[39;49m\u001b[43msize\u001b[49m\u001b[43m(\u001b[49m\u001b[38;5;241;43m0\u001b[39;49m\u001b[43m)\u001b[49m\u001b[43m \u001b[49m\u001b[38;5;241;43m==\u001b[39;49m\u001b[43m \u001b[49m\u001b[43mtensor\u001b[49m\u001b[38;5;241;43m.\u001b[39;49m\u001b[43msize\u001b[49m\u001b[43m(\u001b[49m\u001b[38;5;241;43m0\u001b[39;49m\u001b[43m)\u001b[49m\u001b[43m \u001b[49m\u001b[38;5;28;43;01mfor\u001b[39;49;00m\u001b[43m \u001b[49m\u001b[43mtensor\u001b[49m\u001b[43m \u001b[49m\u001b[38;5;129;43;01min\u001b[39;49;00m\u001b[43m \u001b[49m\u001b[43mtensors\u001b[49m\n\u001b[0;32m    207\u001b[0m \u001b[43m    \u001b[49m\u001b[43m)\u001b[49m, \u001b[38;5;124m\"\u001b[39m\u001b[38;5;124mSize mismatch between tensors\u001b[39m\u001b[38;5;124m\"\u001b[39m\n\u001b[0;32m    208\u001b[0m     \u001b[38;5;28mself\u001b[39m\u001b[38;5;241m.\u001b[39mtensors \u001b[38;5;241m=\u001b[39m tensors\n",
      "File \u001b[1;32mp:\\projects\\ncps\\.venv\\lib\\site-packages\\torch\\utils\\data\\dataset.py:206\u001b[0m, in \u001b[0;36m<genexpr>\u001b[1;34m(.0)\u001b[0m\n\u001b[0;32m    204\u001b[0m \u001b[38;5;28;01mdef\u001b[39;00m \u001b[38;5;21m__init__\u001b[39m(\u001b[38;5;28mself\u001b[39m, \u001b[38;5;241m*\u001b[39mtensors: Tensor) \u001b[38;5;241m-\u001b[39m\u001b[38;5;241m>\u001b[39m \u001b[38;5;28;01mNone\u001b[39;00m:\n\u001b[0;32m    205\u001b[0m     \u001b[38;5;28;01massert\u001b[39;00m \u001b[38;5;28mall\u001b[39m(\n\u001b[1;32m--> 206\u001b[0m         \u001b[43mtensors\u001b[49m\u001b[43m[\u001b[49m\u001b[38;5;241;43m0\u001b[39;49m\u001b[43m]\u001b[49m\u001b[38;5;241;43m.\u001b[39;49m\u001b[43msize\u001b[49m\u001b[43m(\u001b[49m\u001b[38;5;241;43m0\u001b[39;49m\u001b[43m)\u001b[49m \u001b[38;5;241m==\u001b[39m tensor\u001b[38;5;241m.\u001b[39msize(\u001b[38;5;241m0\u001b[39m) \u001b[38;5;28;01mfor\u001b[39;00m tensor \u001b[38;5;129;01min\u001b[39;00m tensors\n\u001b[0;32m    207\u001b[0m     ), \u001b[38;5;124m\"\u001b[39m\u001b[38;5;124mSize mismatch between tensors\u001b[39m\u001b[38;5;124m\"\u001b[39m\n\u001b[0;32m    208\u001b[0m     \u001b[38;5;28mself\u001b[39m\u001b[38;5;241m.\u001b[39mtensors \u001b[38;5;241m=\u001b[39m tensors\n",
      "\u001b[1;31mTypeError\u001b[0m: 'int' object is not callable"
     ]
    }
   ],
   "source": [
    "main()"
   ]
  },
  {
   "cell_type": "code",
   "execution_count": null,
   "id": "7358d785-a0ba-4f83-95f3-474fcf954d68",
   "metadata": {
    "tags": []
   },
   "outputs": [],
   "source": [
    "from run import read_data\n",
    "from config import Config\n",
    "import project.utils as utils\n",
    "import pandas as pd\n",
    "from torch import Tensor\n",
    "import pytorch_lightning as pl\n",
    "import torch.utils.data as data_utils\n",
    "from sklearn.preprocessing import MinMaxScaler\n",
    "from project.model import SequenceLearner\n",
    "from ncps.torch import LTC"
   ]
  },
  {
   "cell_type": "code",
   "execution_count": null,
   "id": "2019c1bb-caff-4c0e-9a1e-c7b7e973288d",
   "metadata": {
    "tags": []
   },
   "outputs": [],
   "source": [
    "device = \"cpu\"#\"cuda\" if torch.cuda.is_available() else \"cpu\"\n",
    "# data related section\n",
    "data_raw = read_data(Config.PATH)\n",
    "data_raw = utils.prepare_data(data_raw, station=Config.STATION, features=Config.FEATURES_LIST)\n",
    "\n",
    "\n",
    "test_data = data_raw.copy()\n",
    "test_data = utils.make_features(test_data, features=Config.FEATURES_LIST)\n",
    "\n",
    "x_features, y_features = utils.generate_test_data(\n",
    "    test_data,\n",
    "    Config.FILTER_DT_TILL,\n",
    "    features=Config.FEATURES_LIST,\n",
    "    push_y_by = 60,\n",
    "    unit = 'd',\n",
    ")\n",
    "\n",
    "x_test_scaler = MinMaxScaler()\n",
    "x_test_scaler, x_features = utils.normalize_data(\n",
    "    x_test_scaler,\n",
    "    x_features)\n",
    "\n",
    "y_test_scaler = MinMaxScaler()\n",
    "y_test_scaler, y_features = utils.normalize_data(\n",
    "    y_test_scaler,\n",
    "    y_features)\n",
    "\n",
    "out_features = y_features.shape[-1]\n",
    "in_features = x_features.shape[-1]\n",
    "\n",
    "ds = data_utils.TensorDataset(\n",
    "    Tensor(x_features), Tensor(y_features)\n",
    ")\n",
    "\n",
    "dataloader = data_utils.DataLoader(\n",
    "    ds,\n",
    "    batch_size=Config.BATCH_SIZE,\n",
    "    num_workers=Config.NUM_WORKERS,\n",
    "    shuffle=False, \n",
    ")"
   ]
  },
  {
   "cell_type": "code",
   "execution_count": null,
   "id": "ded103c7-0e1f-4adf-be3f-eecde3a29e28",
   "metadata": {
    "tags": []
   },
   "outputs": [],
   "source": [
    "trainer = SequenceLearner.load_from_checkpoint(\n",
    "    \"/home/vlsta001/git_projects/ncps-slaf/slaf-project/checkpoints/model-lnn_units=16-lr=0.01-num_epochs=10-lnn_modified=True-v1.ckpt\")\n",
    "model = trainer.model\n",
    "model.to(device)\n",
    "model.eval()"
   ]
  },
  {
   "cell_type": "code",
   "execution_count": null,
   "id": "03cfabe6-f0aa-478f-be28-38a5dc683517",
   "metadata": {
    "tags": []
   },
   "outputs": [],
   "source": [
    "prediction = model(Tensor(x_features).view(1, -1, in_features).to(device))[0].detach().numpy()"
   ]
  },
  {
   "cell_type": "code",
   "execution_count": 5,
   "id": "ca34c2f7-66ef-4b25-b4c4-3ec902946a22",
   "metadata": {
    "tags": []
   },
   "outputs": [],
   "source": [
    "import matplotlib.pyplot as plt\n",
    "import seaborn as sns"
   ]
  },
  {
   "cell_type": "code",
   "execution_count": null,
   "id": "3d767955-f65b-4d0f-a751-77fd3b1c6d0d",
   "metadata": {
    "tags": []
   },
   "outputs": [],
   "source": [
    "sns.set_theme()\n",
    "plt.figure(figsize=(6, 4))\n",
    "plt.plot(y_features[:, 0], label=\"Target output\")\n",
    "plt.plot(prediction[0, :, 0], label=\"NCP output\")\n",
    "\n",
    "plt.title(\"Before training\")\n",
    "plt.legend(loc=\"upper right\")\n",
    "plt.show()"
   ]
  },
  {
   "cell_type": "code",
   "execution_count": null,
   "id": "5adee5da-f616-4022-b9d8-9c5015ff58c7",
   "metadata": {
    "tags": []
   },
   "outputs": [],
   "source": [
    "prediction = utils.denormalize_data(x_test_scaler, x_features)"
   ]
  },
  {
   "cell_type": "code",
   "execution_count": null,
   "id": "aa6d56c8-862d-45b5-9f0d-fcecba7b62b8",
   "metadata": {
    "tags": []
   },
   "outputs": [],
   "source": [
    "prediction"
   ]
  },
  {
   "cell_type": "code",
   "execution_count": null,
   "id": "8bf48a79-529a-4bb5-9fce-96b9c72e7e89",
   "metadata": {
    "tags": []
   },
   "outputs": [],
   "source": [
    "import torch\n",
    "torch.cuda.empty_cache()"
   ]
  },
  {
   "cell_type": "code",
   "execution_count": null,
   "id": "240eef0b-5caa-4b52-a617-bbadf22cfe40",
   "metadata": {
    "tags": []
   },
   "outputs": [],
   "source": [
    "ltc_model.rnn_cell._params"
   ]
  },
  {
   "cell_type": "code",
   "execution_count": null,
   "id": "7b6ad172-3c6e-4448-91dc-f55ebf2187c8",
   "metadata": {
    "tags": []
   },
   "outputs": [],
   "source": [
    "model = SequenceLearner.load_from_checkpoint(\"/home/vlsta001/git_projects/ncps-slaf/slaf-project/checkpoints/epoch=0-step=311-v14.ckpt\")\n",
    "model.model.to(\"cuda\")\n",
    "model.model.eval()"
   ]
  },
  {
   "cell_type": "code",
   "execution_count": null,
   "id": "d11859e0-5b7f-4f08-a2f3-da31a8234f4b",
   "metadata": {
    "tags": []
   },
   "outputs": [],
   "source": [
    "x_features"
   ]
  },
  {
   "cell_type": "code",
   "execution_count": null,
   "id": "048734bf-841c-4523-ab40-45b66f9dd3ea",
   "metadata": {
    "tags": []
   },
   "outputs": [],
   "source": [
    "# predict with the model\n",
    "y_hat = model.model(x_features)"
   ]
  },
  {
   "cell_type": "code",
   "execution_count": null,
   "id": "78723725-6dad-48e6-988b-6d1afa380add",
   "metadata": {
    "tags": []
   },
   "outputs": [],
   "source": [
    "y_hat"
   ]
  }
 ],
 "metadata": {
  "kernelspec": {
   "display_name": "Python 3 (ipykernel)",
   "language": "python",
   "name": "python3"
  },
  "language_info": {
   "codemirror_mode": {
    "name": "ipython",
    "version": 3
   },
   "file_extension": ".py",
   "mimetype": "text/x-python",
   "name": "python",
   "nbconvert_exporter": "python",
   "pygments_lexer": "ipython3",
   "version": "3.10.0"
  }
 },
 "nbformat": 4,
 "nbformat_minor": 5
}
