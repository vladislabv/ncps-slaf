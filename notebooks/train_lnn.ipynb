{
 "cells": [
  {
   "cell_type": "code",
   "execution_count": null,
   "id": "7b6db5e3-46bd-4bc3-a41d-8cb3432a7019",
   "metadata": {
    "tags": []
   },
   "outputs": [],
   "source": [
    "# execute only if trained on cuda 11.6 // make sure it is done before starting to train\n",
    "# !pip install pytorch_lightning==1.5"
   ]
  },
  {
   "cell_type": "code",
   "execution_count": 10,
   "id": "a6471be2",
   "metadata": {},
   "outputs": [],
   "source": [
    "import os; os.chdir(r'P:\\projects\\ncps')"
   ]
  },
  {
   "cell_type": "code",
   "execution_count": 11,
   "id": "df62daf6-4140-4c68-b9e2-7a06f4f61ff2",
   "metadata": {
    "tags": []
   },
   "outputs": [
    {
     "name": "stdout",
     "output_type": "stream",
     "text": [
      "The autoreload extension is already loaded. To reload it, use:\n",
      "  %reload_ext autoreload\n"
     ]
    }
   ],
   "source": [
    "from run import main\n",
    "\n",
    "%load_ext autoreload\n",
    "%autoreload 2"
   ]
  },
  {
   "cell_type": "code",
   "execution_count": 13,
   "id": "5bcfc68f-d279-40dc-beb9-1f36fd73ce58",
   "metadata": {
    "tags": []
   },
   "outputs": [
    {
     "name": "stderr",
     "output_type": "stream",
     "text": [
      "p:\\projects\\ncps\\.venv\\lib\\site-packages\\pytorch_lightning\\utilities\\parsing.py:208: Attribute 'model' is an instance of `nn.Module` and is already saved during checkpointing. It is recommended to ignore them using `self.save_hyperparameters(ignore=['model'])`.\n",
      "GPU available: False, used: False\n",
      "TPU available: False, using: 0 TPU cores\n",
      "HPU available: False, using: 0 HPUs\n",
      "p:\\projects\\ncps\\.venv\\lib\\site-packages\\pytorch_lightning\\trainer\\configuration_validator.py:70: You defined a `validation_step` but have no `val_dataloader`. Skipping val loop.\n",
      "p:\\projects\\ncps\\.venv\\lib\\site-packages\\pytorch_lightning\\callbacks\\model_checkpoint.py:654: Checkpoint directory P:\\projects\\ncps\\pl_checkpoints exists and is not empty.\n",
      "\n",
      "  | Name  | Type | Params | Mode \n",
      "---------------------------------------\n",
      "0 | model | LTC  | 2.1 K  | train\n",
      "---------------------------------------\n",
      "1.7 K     Trainable params\n",
      "416       Non-trainable params\n",
      "2.1 K     Total params\n",
      "0.009     Total estimated model params size (MB)\n",
      "4         Modules in train mode\n",
      "0         Modules in eval mode\n",
      "p:\\projects\\ncps\\.venv\\lib\\site-packages\\pytorch_lightning\\trainer\\connectors\\data_connector.py:424: The 'train_dataloader' does not have many workers which may be a bottleneck. Consider increasing the value of the `num_workers` argument` to `num_workers=15` in the `DataLoader` to improve performance.\n"
     ]
    },
    {
     "name": "stdout",
     "output_type": "stream",
     "text": [
      "Epoch 9: 100%|██████████| 157/157 [02:07<00:00,  1.23it/s, v_num=5, train_loss=0.214]"
     ]
    },
    {
     "name": "stderr",
     "output_type": "stream",
     "text": [
      "`Trainer.fit` stopped: `max_epochs=10` reached.\n"
     ]
    },
    {
     "name": "stdout",
     "output_type": "stream",
     "text": [
      "Epoch 9: 100%|██████████| 157/157 [02:07<00:00,  1.23it/s, v_num=5, train_loss=0.214]\n",
      "P:\\projects\\ncps\\pl_checkpoints\\model-lnn_units=16-lr=0.01-num_epochs=10-lnn_modified=False_2024-09-08 16-37-18.003829.ckpt\n"
     ]
    }
   ],
   "source": [
    "main()"
   ]
  },
  {
   "cell_type": "code",
   "execution_count": null,
   "id": "7358d785-a0ba-4f83-95f3-474fcf954d68",
   "metadata": {
    "tags": []
   },
   "outputs": [],
   "source": [
    "from project.model import SequenceLearner"
   ]
  },
  {
   "cell_type": "code",
   "execution_count": null,
   "id": "61cd4297",
   "metadata": {},
   "outputs": [],
   "source": [
    "device = \"cpu\"\n",
    "checkpoint_path = \"checkpoints/model-lnn_units=16-lr=0.01-num_epochs=10-lnn_modified=True-v1.ckpt\""
   ]
  },
  {
   "cell_type": "code",
   "execution_count": null,
   "id": "9884b854",
   "metadata": {},
   "outputs": [],
   "source": [
    "import torch\n",
    "torch.cuda.empty_cache()"
   ]
  },
  {
   "cell_type": "code",
   "execution_count": null,
   "id": "ded103c7-0e1f-4adf-be3f-eecde3a29e28",
   "metadata": {
    "tags": []
   },
   "outputs": [],
   "source": [
    "trainer = SequenceLearner.load_from_checkpoint(\n",
    "    checkpoint_path)\n",
    "model = trainer.model\n",
    "model.to(device)\n",
    "model.eval()"
   ]
  }
 ],
 "metadata": {
  "kernelspec": {
   "display_name": "Python 3 (ipykernel)",
   "language": "python",
   "name": "python3"
  },
  "language_info": {
   "codemirror_mode": {
    "name": "ipython",
    "version": 3
   },
   "file_extension": ".py",
   "mimetype": "text/x-python",
   "name": "python",
   "nbconvert_exporter": "python",
   "pygments_lexer": "ipython3",
   "version": "3.10.0"
  }
 },
 "nbformat": 4,
 "nbformat_minor": 5
}
