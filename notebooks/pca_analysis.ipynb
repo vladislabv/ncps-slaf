{
 "cells": [
  {
   "cell_type": "code",
   "execution_count": 2,
   "id": "529dfc65",
   "metadata": {},
   "outputs": [],
   "source": [
    "import os; os.chdir(\"..\")"
   ]
  },
  {
   "cell_type": "code",
   "execution_count": 3,
   "id": "7e42aaf6-91f5-4a22-8b8c-8f5fa553177f",
   "metadata": {
    "tags": []
   },
   "outputs": [],
   "source": [
    "import numpy as np\n",
    "import pandas as pd\n",
    "\n",
    "from sklearn.decomposition import PCA\n",
    "from sklearn.preprocessing import StandardScaler\n",
    "\n",
    "import matplotlib.pyplot as plt\n",
    "\n",
    "from run import read_data\n",
    "import project.utils as utils\n",
    "from config import Config\n",
    "\n",
    "%load_ext autoreload\n",
    "%autoreload 2"
   ]
  },
  {
   "cell_type": "code",
   "execution_count": 4,
   "id": "d8f029ba-2c24-4a76-978f-8bd6f4ea58d0",
   "metadata": {
    "tags": []
   },
   "outputs": [],
   "source": [
    "# data related section\n",
    "data_raw = read_data(Config.PATH)\n",
    "data_raw = utils.prepare_data(data_raw, station=Config.STATION, features=Config.FEATURES_LIST)\n",
    "\n",
    "train_data = data_raw.copy()\n",
    "train_scaler = StandardScaler()\n",
    "train_scaler, train_data[Config.FEATURES_2_SCALE] = utils.normalize_data(\n",
    "        train_scaler,\n",
    "        train_data[Config.FEATURES_2_SCALE].values)\n",
    "\n",
    "train_data = utils.make_features(train_data, features=Config.FEATURES_LIST)\n",
    "\n",
    "x_features, y_features = utils.generate_train_data(\n",
    "    train_data, features=Config.FEATURES_LIST, dt_from=Config.FILTER_DT_FROM, dt_till=Config.FILTER_DT_TILL\n",
    ")"
   ]
  },
  {
   "cell_type": "code",
   "execution_count": null,
   "id": "91b3c125-3a3a-4a0b-9234-2298891f1842",
   "metadata": {
    "tags": []
   },
   "outputs": [],
   "source": [
    "train_data.corr(numeric_only=True)"
   ]
  },
  {
   "cell_type": "code",
   "execution_count": null,
   "id": "dfd1656f-68dd-4aa8-93b7-e69a9fd0e9b5",
   "metadata": {
    "tags": []
   },
   "outputs": [],
   "source": [
    "cols = list(train_data.columns.copy())\n",
    "cols.remove('y')\n",
    "cols"
   ]
  },
  {
   "cell_type": "code",
   "execution_count": null,
   "id": "1820cfe3-98ae-4a5a-b799-70c4eeaea2b6",
   "metadata": {
    "tags": []
   },
   "outputs": [],
   "source": [
    "pca = PCA()\n",
    "x_new = pca.fit_transform(x_features)\n",
    "\n",
    "def myplot(score,coeff,labels=None):\n",
    "    xs = score[:,0]\n",
    "    ys = score[:,1]\n",
    "    n = coeff.shape[0]\n",
    "    scalex = 1.0/(xs.max() - xs.min())\n",
    "    scaley = 1.0/(ys.max() - ys.min())\n",
    "    plt.scatter(xs * scalex,ys * scaley, c = y_features)\n",
    "    for i in range(n):\n",
    "        plt.arrow(0, 0, coeff[i,0], coeff[i,1],color = 'r',alpha = 0.5)\n",
    "        if labels is None:\n",
    "            plt.text(coeff[i,0]* 1.45, coeff[i,1] * 1.45, \"Var\"+str(i+1), color = 'g', ha = 'center', va = 'center')\n",
    "        else:\n",
    "            plt.text(coeff[i,0]* 1.45, coeff[i,1] * 1.45, labels[i], color = 'g', ha = 'center', va = 'center')\n",
    "\n",
    "plt.xlim(-1,1)\n",
    "plt.ylim(-1,1)\n",
    "plt.xlabel(\"PC{}\".format(1))\n",
    "plt.ylabel(\"PC{}\".format(2))\n",
    "plt.grid()\n",
    "\n",
    "#Call the function. Use only the 2 PCs.\n",
    "myplot(x_new[:,0:2],np.transpose(pca.components_[0:2, :]))\n",
    "plt.show()"
   ]
  },
  {
   "cell_type": "code",
   "execution_count": null,
   "id": "9b5b3bac-19a9-4f9a-a291-3f3bec6174f9",
   "metadata": {
    "tags": []
   },
   "outputs": [],
   "source": [
    "model = PCA(n_components=6).fit(x_features)\n",
    "X_pc = model.transform(x_features)\n",
    "print(model.components_.shape)\n",
    "# number of components\n",
    "n_pcs= model.components_.shape[0]\n",
    "\n",
    "# get the index of the most important feature on EACH component\n",
    "# LIST COMPREHENSION HERE\n",
    "most_important = [np.abs(model.components_[i]).argmax() for i in range(n_pcs)]\n",
    "print(most_important)\n",
    "initial_feature_names = cols\n",
    "# get the names\n",
    "most_important_names = [initial_feature_names[most_important[i]] for i in range(n_pcs)]\n",
    "\n",
    "# LIST COMPREHENSION HERE AGAIN\n",
    "dic = {'PC{}'.format(i): most_important_names[i] for i in range(n_pcs)}\n",
    "\n",
    "# build the dataframe\n",
    "df = pd.DataFrame(dic.items())"
   ]
  },
  {
   "cell_type": "code",
   "execution_count": null,
   "id": "bf7d0e2e-10be-4a74-9a84-467cae86d395",
   "metadata": {
    "tags": []
   },
   "outputs": [],
   "source": [
    "# Explained variance ratio to understand the amount of variance each component explains\n",
    "explained_variance = pca.explained_variance_ratio_\n",
    "cumulative_variance = np.cumsum(explained_variance)\n",
    "\n",
    "# Print the cumulative explained variance to decide on the number of components\n",
    "print(\"Cumulative Variance Explained by Components: \", cumulative_variance)\n",
    "print(\"Most important features:\\n\\n\")\n",
    "df"
   ]
  }
 ],
 "metadata": {
  "kernelspec": {
   "display_name": "Python 3 (ipykernel)",
   "language": "python",
   "name": "python3"
  },
  "language_info": {
   "codemirror_mode": {
    "name": "ipython",
    "version": 3
   },
   "file_extension": ".py",
   "mimetype": "text/x-python",
   "name": "python",
   "nbconvert_exporter": "python",
   "pygments_lexer": "ipython3",
   "version": "3.10.0"
  }
 },
 "nbformat": 4,
 "nbformat_minor": 5
}
