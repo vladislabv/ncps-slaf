{
 "cells": [
  {
   "cell_type": "code",
   "execution_count": null,
   "id": "7b6db5e3-46bd-4bc3-a41d-8cb3432a7019",
   "metadata": {
    "tags": []
   },
   "outputs": [],
   "source": [
    "# make sure it is done before starting to train\n",
    "!cd .. && python setup.py install && pip install pytorch_lightning==1.5"
   ]
  },
  {
   "cell_type": "code",
   "execution_count": null,
   "id": "df62daf6-4140-4c68-b9e2-7a06f4f61ff2",
   "metadata": {
    "tags": []
   },
   "outputs": [],
   "source": [
    "from run import main\n",
    "\n",
    "%load_ext autoreload\n",
    "%autoreload 2"
   ]
  },
  {
   "cell_type": "code",
   "execution_count": null,
   "id": "5bcfc68f-d279-40dc-beb9-1f36fd73ce58",
   "metadata": {
    "tags": []
   },
   "outputs": [],
   "source": [
    "main()"
   ]
  },
  {
   "cell_type": "code",
   "execution_count": null,
   "id": "7358d785-a0ba-4f83-95f3-474fcf954d68",
   "metadata": {
    "tags": []
   },
   "outputs": [],
   "source": [
    "from run import read_data\n",
    "from config import Config\n",
    "import src.utils as utils\n",
    "import pandas as pd\n",
    "from torch import Tensor\n",
    "import pytorch_lightning as pl\n",
    "import torch.utils.data as data_utils\n",
    "from sklearn.preprocessing import MinMaxScaler\n",
    "from src.model import SequenceLearner\n",
    "from ncps.torch import LTC"
   ]
  },
  {
   "cell_type": "code",
   "execution_count": null,
   "id": "2019c1bb-caff-4c0e-9a1e-c7b7e973288d",
   "metadata": {
    "tags": []
   },
   "outputs": [],
   "source": [
    "device = \"cpu\"#\"cuda\" if torch.cuda.is_available() else \"cpu\"\n",
    "# data related section\n",
    "data_raw = read_data(Config.PATH)\n",
    "data_raw = utils.prepare_data(data_raw, station=Config.STATION, features=Config.FEATURES_LIST)\n",
    "\n",
    "\n",
    "test_data = data_raw.copy()\n",
    "test_data = utils.make_features(test_data, features=Config.FEATURES_LIST)\n",
    "\n",
    "x_features, y_features = utils.generate_test_data(\n",
    "    test_data,\n",
    "    Config.FILTER_DT_TILL,\n",
    "    features=Config.FEATURES_LIST,\n",
    "    push_y_by = 60,\n",
    "    unit = 'd',\n",
    ")\n",
    "\n",
    "x_test_scaler = MinMaxScaler()\n",
    "x_test_scaler, x_features = utils.normalize_data(\n",
    "    x_test_scaler,\n",
    "    x_features)\n",
    "\n",
    "y_test_scaler = MinMaxScaler()\n",
    "y_test_scaler, y_features = utils.normalize_data(\n",
    "    y_test_scaler,\n",
    "    y_features)\n",
    "\n",
    "out_features = y_features.shape[-1]\n",
    "in_features = x_features.shape[-1]\n",
    "\n",
    "ds = data_utils.TensorDataset(\n",
    "    Tensor(x_features), Tensor(y_features)\n",
    ")\n",
    "\n",
    "dataloader = data_utils.DataLoader(\n",
    "    ds,\n",
    "    batch_size=Config.BATCH_SIZE,\n",
    "    num_workers=Config.NUM_WORKERS,\n",
    "    shuffle=False, \n",
    ")"
   ]
  },
  {
   "cell_type": "code",
   "execution_count": null,
   "id": "ded103c7-0e1f-4adf-be3f-eecde3a29e28",
   "metadata": {
    "tags": []
   },
   "outputs": [],
   "source": [
    "trainer = SequenceLearner.load_from_checkpoint(\n",
    "    \"/home/vlsta001/git_projects/ncps-slaf/slaf-project/checkpoints/model-lnn_units=16-lr=0.01-num_epochs=10-lnn_modified=True-v1.ckpt\")\n",
    "model = trainer.model\n",
    "model.to(device)\n",
    "model.eval()"
   ]
  },
  {
   "cell_type": "code",
   "execution_count": null,
   "id": "03cfabe6-f0aa-478f-be28-38a5dc683517",
   "metadata": {
    "tags": []
   },
   "outputs": [],
   "source": [
    "prediction = model(Tensor(x_features).view(1, -1, in_features).to(device))[0].detach().numpy()"
   ]
  },
  {
   "cell_type": "code",
   "execution_count": null,
   "id": "ca34c2f7-66ef-4b25-b4c4-3ec902946a22",
   "metadata": {
    "tags": []
   },
   "outputs": [],
   "source": [
    "import matplotlib.pyplot as plt\n",
    "import seaborn as sns"
   ]
  },
  {
   "cell_type": "code",
   "execution_count": null,
   "id": "3d767955-f65b-4d0f-a751-77fd3b1c6d0d",
   "metadata": {
    "tags": []
   },
   "outputs": [],
   "source": [
    "sns.set_theme()\n",
    "plt.figure(figsize=(6, 4))\n",
    "plt.plot(y_features[:, 0], label=\"Target output\")\n",
    "plt.plot(prediction[0, :, 0], label=\"NCP output\")\n",
    "\n",
    "plt.title(\"Before training\")\n",
    "plt.legend(loc=\"upper right\")\n",
    "plt.show()"
   ]
  },
  {
   "cell_type": "code",
   "execution_count": null,
   "id": "5adee5da-f616-4022-b9d8-9c5015ff58c7",
   "metadata": {
    "tags": []
   },
   "outputs": [],
   "source": [
    "prediction = utils.denormalize_data(x_test_scaler, x_features)"
   ]
  },
  {
   "cell_type": "code",
   "execution_count": null,
   "id": "aa6d56c8-862d-45b5-9f0d-fcecba7b62b8",
   "metadata": {
    "tags": []
   },
   "outputs": [],
   "source": [
    "prediction"
   ]
  },
  {
   "cell_type": "code",
   "execution_count": null,
   "id": "8bf48a79-529a-4bb5-9fce-96b9c72e7e89",
   "metadata": {
    "tags": []
   },
   "outputs": [],
   "source": [
    "import torch\n",
    "torch.cuda.empty_cache()"
   ]
  },
  {
   "cell_type": "code",
   "execution_count": null,
   "id": "240eef0b-5caa-4b52-a617-bbadf22cfe40",
   "metadata": {
    "tags": []
   },
   "outputs": [],
   "source": [
    "ltc_model.rnn_cell._params"
   ]
  },
  {
   "cell_type": "code",
   "execution_count": null,
   "id": "7b6ad172-3c6e-4448-91dc-f55ebf2187c8",
   "metadata": {
    "tags": []
   },
   "outputs": [],
   "source": [
    "model = SequenceLearner.load_from_checkpoint(\"/home/vlsta001/git_projects/ncps-slaf/slaf-project/checkpoints/epoch=0-step=311-v14.ckpt\")\n",
    "model.model.to(\"cuda\")\n",
    "model.model.eval()"
   ]
  },
  {
   "cell_type": "code",
   "execution_count": null,
   "id": "d11859e0-5b7f-4f08-a2f3-da31a8234f4b",
   "metadata": {
    "tags": []
   },
   "outputs": [],
   "source": [
    "x_features"
   ]
  },
  {
   "cell_type": "code",
   "execution_count": null,
   "id": "048734bf-841c-4523-ab40-45b66f9dd3ea",
   "metadata": {
    "tags": []
   },
   "outputs": [],
   "source": [
    "# predict with the model\n",
    "y_hat = model.model(x_features)"
   ]
  },
  {
   "cell_type": "code",
   "execution_count": null,
   "id": "78723725-6dad-48e6-988b-6d1afa380add",
   "metadata": {
    "tags": []
   },
   "outputs": [],
   "source": [
    "y_hat"
   ]
  }
 ],
 "metadata": {
  "kernelspec": {
   "display_name": "Python 3 (ipykernel)",
   "language": "python",
   "name": "python3"
  },
  "language_info": {
   "codemirror_mode": {
    "name": "ipython",
    "version": 3
   },
   "file_extension": ".py",
   "mimetype": "text/x-python",
   "name": "python",
   "nbconvert_exporter": "python",
   "pygments_lexer": "ipython3",
   "version": "3.10.11"
  }
 },
 "nbformat": 4,
 "nbformat_minor": 5
}
