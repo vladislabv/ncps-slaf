{
 "cells": [
  {
   "cell_type": "code",
   "execution_count": 5,
   "id": "7b6db5e3-46bd-4bc3-a41d-8cb3432a7019",
   "metadata": {
    "tags": []
   },
   "outputs": [
    {
     "name": "stdout",
     "output_type": "stream",
     "text": [
      "running install\n",
      "running bdist_egg\n",
      "running egg_info\n",
      "writing ncps.egg-info\\PKG-INFO\n",
      "writing dependency_links to ncps.egg-info\\dependency_links.txt\n",
      "writing requirements to ncps.egg-info\\requires.txt\n",
      "writing top-level names to ncps.egg-info\\top_level.txt\n",
      "reading manifest file 'ncps.egg-info\\SOURCES.txt'\n",
      "adding license file 'LICENSE'\n",
      "writing manifest file 'ncps.egg-info\\SOURCES.txt'\n",
      "installing library code to build\\bdist.win-amd64\\egg\n",
      "running install_lib\n",
      "running build_py\n",
      "copying ncps\\__init__.py -> build\\lib\\ncps\n",
      "copying ncps\\datasets\\icra2020_lidar_collision_avoidance.py -> build\\lib\\ncps\\datasets\n",
      "copying ncps\\datasets\\utils.py -> build\\lib\\ncps\\datasets\n",
      "copying ncps\\datasets\\__init__.py -> build\\lib\\ncps\\datasets\n",
      "copying ncps\\keras\\cfc.py -> build\\lib\\ncps\\keras\n",
      "copying ncps\\keras\\cfc_cell.py -> build\\lib\\ncps\\keras\n",
      "copying ncps\\keras\\ltc.py -> build\\lib\\ncps\\keras\n",
      "copying ncps\\keras\\ltc_cell.py -> build\\lib\\ncps\\keras\n",
      "copying ncps\\keras\\mm_rnn.py -> build\\lib\\ncps\\keras\n",
      "copying ncps\\keras\\wired_cfc_cell.py -> build\\lib\\ncps\\keras\n",
      "copying ncps\\keras\\__init__.py -> build\\lib\\ncps\\keras\n",
      "copying ncps\\paddle\\ltc_cell.py -> build\\lib\\ncps\\paddle\n",
      "copying ncps\\paddle\\__init__.py -> build\\lib\\ncps\\paddle\n",
      "copying ncps\\tf\\cfc.py -> build\\lib\\ncps\\tf\n",
      "copying ncps\\tf\\cfc_cell.py -> build\\lib\\ncps\\tf\n",
      "copying ncps\\tf\\ltc.py -> build\\lib\\ncps\\tf\n",
      "copying ncps\\tf\\ltc_cell.py -> build\\lib\\ncps\\tf\n",
      "copying ncps\\tf\\mm_rnn.py -> build\\lib\\ncps\\tf\n",
      "copying ncps\\tf\\wired_cfc_cell.py -> build\\lib\\ncps\\tf\n",
      "copying ncps\\tf\\__init__.py -> build\\lib\\ncps\\tf\n",
      "copying ncps\\torch\\cfc.py -> build\\lib\\ncps\\torch\n",
      "copying ncps\\torch\\cfc_cell.py -> build\\lib\\ncps\\torch\n",
      "copying ncps\\torch\\lstm.py -> build\\lib\\ncps\\torch\n",
      "copying ncps\\torch\\ltc.py -> build\\lib\\ncps\\torch\n",
      "copying ncps\\torch\\ltc_cell.py -> build\\lib\\ncps\\torch\n",
      "copying ncps\\torch\\wired_cfc_cell.py -> build\\lib\\ncps\\torch\n",
      "copying ncps\\torch\\__init__.py -> build\\lib\\ncps\\torch\n",
      "copying ncps\\wirings\\wirings.py -> build\\lib\\ncps\\wirings\n",
      "copying ncps\\wirings\\__init__.py -> build\\lib\\ncps\\wirings\n",
      "copying ncps\\datasets\\tf\\atari_cloning.py -> build\\lib\\ncps\\datasets\\tf\n",
      "copying ncps\\datasets\\tf\\__init__.py -> build\\lib\\ncps\\datasets\\tf\n",
      "copying ncps\\datasets\\torch\\atari_cloning.py -> build\\lib\\ncps\\datasets\\torch\n",
      "copying ncps\\datasets\\torch\\__init__.py -> build\\lib\\ncps\\datasets\\torch\n",
      "creating build\\bdist.win-amd64\\egg\n",
      "creating build\\bdist.win-amd64\\egg\\ncps\n",
      "creating build\\bdist.win-amd64\\egg\\ncps\\datasets\n",
      "copying build\\lib\\ncps\\datasets\\icra2020_lidar_collision_avoidance.py -> build\\bdist.win-amd64\\egg\\ncps\\datasets\n",
      "creating build\\bdist.win-amd64\\egg\\ncps\\datasets\\tf\n",
      "copying build\\lib\\ncps\\datasets\\tf\\atari_cloning.py -> build\\bdist.win-amd64\\egg\\ncps\\datasets\\tf\n",
      "copying build\\lib\\ncps\\datasets\\tf\\__init__.py -> build\\bdist.win-amd64\\egg\\ncps\\datasets\\tf\n",
      "creating build\\bdist.win-amd64\\egg\\ncps\\datasets\\torch\n",
      "copying build\\lib\\ncps\\datasets\\torch\\atari_cloning.py -> build\\bdist.win-amd64\\egg\\ncps\\datasets\\torch\n",
      "copying build\\lib\\ncps\\datasets\\torch\\__init__.py -> build\\bdist.win-amd64\\egg\\ncps\\datasets\\torch\n",
      "copying build\\lib\\ncps\\datasets\\utils.py -> build\\bdist.win-amd64\\egg\\ncps\\datasets\n",
      "copying build\\lib\\ncps\\datasets\\__init__.py -> build\\bdist.win-amd64\\egg\\ncps\\datasets\n",
      "creating build\\bdist.win-amd64\\egg\\ncps\\keras\n",
      "copying build\\lib\\ncps\\keras\\cfc.py -> build\\bdist.win-amd64\\egg\\ncps\\keras\n",
      "copying build\\lib\\ncps\\keras\\cfc_cell.py -> build\\bdist.win-amd64\\egg\\ncps\\keras\n",
      "copying build\\lib\\ncps\\keras\\ltc.py -> build\\bdist.win-amd64\\egg\\ncps\\keras\n",
      "copying build\\lib\\ncps\\keras\\ltc_cell.py -> build\\bdist.win-amd64\\egg\\ncps\\keras\n",
      "copying build\\lib\\ncps\\keras\\mm_rnn.py -> build\\bdist.win-amd64\\egg\\ncps\\keras\n",
      "copying build\\lib\\ncps\\keras\\wired_cfc_cell.py -> build\\bdist.win-amd64\\egg\\ncps\\keras\n",
      "copying build\\lib\\ncps\\keras\\__init__.py -> build\\bdist.win-amd64\\egg\\ncps\\keras\n",
      "creating build\\bdist.win-amd64\\egg\\ncps\\paddle\n",
      "copying build\\lib\\ncps\\paddle\\ltc_cell.py -> build\\bdist.win-amd64\\egg\\ncps\\paddle\n",
      "copying build\\lib\\ncps\\paddle\\__init__.py -> build\\bdist.win-amd64\\egg\\ncps\\paddle\n",
      "creating build\\bdist.win-amd64\\egg\\ncps\\tf\n",
      "copying build\\lib\\ncps\\tf\\cfc.py -> build\\bdist.win-amd64\\egg\\ncps\\tf\n",
      "copying build\\lib\\ncps\\tf\\cfc_cell.py -> build\\bdist.win-amd64\\egg\\ncps\\tf\n",
      "copying build\\lib\\ncps\\tf\\ltc.py -> build\\bdist.win-amd64\\egg\\ncps\\tf\n",
      "copying build\\lib\\ncps\\tf\\ltc_cell.py -> build\\bdist.win-amd64\\egg\\ncps\\tf\n",
      "copying build\\lib\\ncps\\tf\\mm_rnn.py -> build\\bdist.win-amd64\\egg\\ncps\\tf\n",
      "copying build\\lib\\ncps\\tf\\wired_cfc_cell.py -> build\\bdist.win-amd64\\egg\\ncps\\tf\n",
      "copying build\\lib\\ncps\\tf\\__init__.py -> build\\bdist.win-amd64\\egg\\ncps\\tf\n",
      "creating build\\bdist.win-amd64\\egg\\ncps\\torch\n",
      "copying build\\lib\\ncps\\torch\\cfc.py -> build\\bdist.win-amd64\\egg\\ncps\\torch\n",
      "copying build\\lib\\ncps\\torch\\cfc_cell.py -> build\\bdist.win-amd64\\egg\\ncps\\torch\n",
      "copying build\\lib\\ncps\\torch\\lstm.py -> build\\bdist.win-amd64\\egg\\ncps\\torch\n",
      "copying build\\lib\\ncps\\torch\\ltc.py -> build\\bdist.win-amd64\\egg\\ncps\\torch\n",
      "copying build\\lib\\ncps\\torch\\ltc_cell.py -> build\\bdist.win-amd64\\egg\\ncps\\torch\n",
      "copying build\\lib\\ncps\\torch\\wired_cfc_cell.py -> build\\bdist.win-amd64\\egg\\ncps\\torch\n",
      "copying build\\lib\\ncps\\torch\\__init__.py -> build\\bdist.win-amd64\\egg\\ncps\\torch\n",
      "creating build\\bdist.win-amd64\\egg\\ncps\\wirings\n",
      "copying build\\lib\\ncps\\wirings\\wirings.py -> build\\bdist.win-amd64\\egg\\ncps\\wirings\n",
      "copying build\\lib\\ncps\\wirings\\__init__.py -> build\\bdist.win-amd64\\egg\\ncps\\wirings\n",
      "copying build\\lib\\ncps\\__init__.py -> build\\bdist.win-amd64\\egg\\ncps\n",
      "byte-compiling build\\bdist.win-amd64\\egg\\ncps\\datasets\\icra2020_lidar_collision_avoidance.py to icra2020_lidar_collision_avoidance.cpython-310.pyc\n",
      "byte-compiling build\\bdist.win-amd64\\egg\\ncps\\datasets\\tf\\atari_cloning.py to atari_cloning.cpython-310.pyc\n",
      "byte-compiling build\\bdist.win-amd64\\egg\\ncps\\datasets\\tf\\__init__.py to __init__.cpython-310.pyc\n",
      "byte-compiling build\\bdist.win-amd64\\egg\\ncps\\datasets\\torch\\atari_cloning.py to atari_cloning.cpython-310.pyc\n",
      "byte-compiling build\\bdist.win-amd64\\egg\\ncps\\datasets\\torch\\__init__.py to __init__.cpython-310.pyc\n",
      "byte-compiling build\\bdist.win-amd64\\egg\\ncps\\datasets\\utils.py to utils.cpython-310.pyc\n",
      "byte-compiling build\\bdist.win-amd64\\egg\\ncps\\datasets\\__init__.py to __init__.cpython-310.pyc\n",
      "byte-compiling build\\bdist.win-amd64\\egg\\ncps\\keras\\cfc.py to cfc.cpython-310.pyc\n",
      "byte-compiling build\\bdist.win-amd64\\egg\\ncps\\keras\\cfc_cell.py to cfc_cell.cpython-310.pyc\n",
      "byte-compiling build\\bdist.win-amd64\\egg\\ncps\\keras\\ltc.py to ltc.cpython-310.pyc\n",
      "byte-compiling build\\bdist.win-amd64\\egg\\ncps\\keras\\ltc_cell.py to ltc_cell.cpython-310.pyc\n",
      "byte-compiling build\\bdist.win-amd64\\egg\\ncps\\keras\\mm_rnn.py to mm_rnn.cpython-310.pyc\n",
      "byte-compiling build\\bdist.win-amd64\\egg\\ncps\\keras\\wired_cfc_cell.py to wired_cfc_cell.cpython-310.pyc\n",
      "byte-compiling build\\bdist.win-amd64\\egg\\ncps\\keras\\__init__.py to __init__.cpython-310.pyc\n",
      "byte-compiling build\\bdist.win-amd64\\egg\\ncps\\paddle\\ltc_cell.py to ltc_cell.cpython-310.pyc\n",
      "byte-compiling build\\bdist.win-amd64\\egg\\ncps\\paddle\\__init__.py to __init__.cpython-310.pyc\n",
      "byte-compiling build\\bdist.win-amd64\\egg\\ncps\\tf\\cfc.py to cfc.cpython-310.pyc\n",
      "byte-compiling build\\bdist.win-amd64\\egg\\ncps\\tf\\cfc_cell.py to cfc_cell.cpython-310.pyc\n",
      "byte-compiling build\\bdist.win-amd64\\egg\\ncps\\tf\\ltc.py to ltc.cpython-310.pyc\n",
      "byte-compiling build\\bdist.win-amd64\\egg\\ncps\\tf\\ltc_cell.py to ltc_cell.cpython-310.pyc\n",
      "byte-compiling build\\bdist.win-amd64\\egg\\ncps\\tf\\mm_rnn.py to mm_rnn.cpython-310.pyc\n",
      "byte-compiling build\\bdist.win-amd64\\egg\\ncps\\tf\\wired_cfc_cell.py to wired_cfc_cell.cpython-310.pyc\n",
      "byte-compiling build\\bdist.win-amd64\\egg\\ncps\\tf\\__init__.py to __init__.cpython-310.pyc\n",
      "byte-compiling build\\bdist.win-amd64\\egg\\ncps\\torch\\cfc.py to cfc.cpython-310.pyc\n",
      "byte-compiling build\\bdist.win-amd64\\egg\\ncps\\torch\\cfc_cell.py to cfc_cell.cpython-310.pyc\n",
      "byte-compiling build\\bdist.win-amd64\\egg\\ncps\\torch\\lstm.py to lstm.cpython-310.pyc\n",
      "byte-compiling build\\bdist.win-amd64\\egg\\ncps\\torch\\ltc.py to ltc.cpython-310.pyc\n",
      "byte-compiling build\\bdist.win-amd64\\egg\\ncps\\torch\\ltc_cell.py to ltc_cell.cpython-310.pyc\n",
      "byte-compiling build\\bdist.win-amd64\\egg\\ncps\\torch\\wired_cfc_cell.py to wired_cfc_cell.cpython-310.pyc\n",
      "byte-compiling build\\bdist.win-amd64\\egg\\ncps\\torch\\__init__.py to __init__.cpython-310.pyc\n",
      "byte-compiling build\\bdist.win-amd64\\egg\\ncps\\wirings\\wirings.py to wirings.cpython-310.pyc\n",
      "byte-compiling build\\bdist.win-amd64\\egg\\ncps\\wirings\\__init__.py to __init__.cpython-310.pyc\n",
      "byte-compiling build\\bdist.win-amd64\\egg\\ncps\\__init__.py to __init__.cpython-310.pyc\n",
      "creating build\\bdist.win-amd64\\egg\\EGG-INFO\n",
      "copying ncps.egg-info\\PKG-INFO -> build\\bdist.win-amd64\\egg\\EGG-INFO\n",
      "copying ncps.egg-info\\SOURCES.txt -> build\\bdist.win-amd64\\egg\\EGG-INFO\n",
      "copying ncps.egg-info\\dependency_links.txt -> build\\bdist.win-amd64\\egg\\EGG-INFO\n",
      "copying ncps.egg-info\\requires.txt -> build\\bdist.win-amd64\\egg\\EGG-INFO\n",
      "copying ncps.egg-info\\top_level.txt -> build\\bdist.win-amd64\\egg\\EGG-INFO\n",
      "creating 'dist\\ncps-1.0.0-py3.10.egg' and adding 'build\\bdist.win-amd64\\egg' to it\n",
      "removing 'build\\bdist.win-amd64\\egg' (and everything under it)\n",
      "Processing ncps-1.0.0-py3.10.egg\n",
      "Removing c:\\users\\vid\\anaconda3\\envs\\lnn_slaf2\\lib\\site-packages\\ncps-1.0.0-py3.10.egg\n"
     ]
    },
    {
     "name": "stderr",
     "output_type": "stream",
     "text": [
      "C:\\Users\\VID\\anaconda3\\envs\\lnn_slaf2\\lib\\site-packages\\setuptools\\_distutils\\cmd.py:66: SetuptoolsDeprecationWarning: setup.py install is deprecated.\n",
      "!!\n",
      "\n",
      "        ********************************************************************************\n",
      "        Please avoid running ``setup.py`` directly.\n",
      "        Instead, use pypa/build, pypa/installer or other\n",
      "        standards-based tools.\n",
      "\n",
      "        See https://blog.ganssle.io/articles/2021/10/setup-py-deprecated.html for details.\n",
      "        ********************************************************************************\n",
      "\n",
      "!!\n",
      "  self.initialize_options()\n",
      "C:\\Users\\VID\\anaconda3\\envs\\lnn_slaf2\\lib\\site-packages\\setuptools\\_distutils\\cmd.py:66: EasyInstallDeprecationWarning: easy_install command is deprecated.\n",
      "!!\n",
      "\n",
      "        ********************************************************************************\n",
      "        Please avoid running ``setup.py`` and ``easy_install``.\n",
      "        Instead, use pypa/build, pypa/installer or other\n",
      "        standards-based tools.\n",
      "\n",
      "        See https://github.com/pypa/setuptools/issues/917 for details.\n",
      "        ********************************************************************************\n",
      "\n",
      "!!\n",
      "  self.initialize_options()\n",
      "zip_safe flag not set; analyzing archive contents...\n",
      "error: [WinError 32] Der Prozess kann nicht auf die Datei zugreifen, da sie von einem anderen Prozess verwendet wird: 'c:\\\\users\\\\vid\\\\anaconda3\\\\envs\\\\lnn_slaf2\\\\lib\\\\site-packages\\\\ncps-1.0.0-py3.10.egg'\n"
     ]
    }
   ],
   "source": [
    "# make sure it is done before starting to train\n",
    "!cd .. && python setup.py install && pip install pytorch_lightning==1.5"
   ]
  },
  {
   "cell_type": "code",
   "execution_count": 5,
   "id": "df62daf6-4140-4c68-b9e2-7a06f4f61ff2",
   "metadata": {
    "tags": []
   },
   "outputs": [
    {
     "name": "stdout",
     "output_type": "stream",
     "text": [
<<<<<<< HEAD
      "2024-09-01 16:57:14.874814: I tensorflow/core/platform/cpu_feature_guard.cc:193] This TensorFlow binary is optimized with oneAPI Deep Neural Network Library (oneDNN) to use the following CPU instructions in performance-critical operations:  AVX2 FMA\n",
      "To enable them in other operations, rebuild TensorFlow with the appropriate compiler flags.\n"
=======
      "The autoreload extension is already loaded. To reload it, use:\n",
      "  %reload_ext autoreload\n"
>>>>>>> 2493d79fa1c884ba2dde418752c106b7f6d8fffd
     ]
    }
   ],
   "source": [
    "from run import main\n",
    "\n",
    "%load_ext autoreload\n",
    "%autoreload 2"
   ]
  },
  {
   "cell_type": "code",
   "execution_count": 2,
   "id": "5bcfc68f-d279-40dc-beb9-1f36fd73ce58",
   "metadata": {
    "tags": []
   },
   "outputs": [
    {
     "name": "stdout",
     "output_type": "stream",
     "text": [
      "Epoch 0:  44%|████▍     | 69/157 [01:35<02:02,  1.39s/it, loss=50, v_num=8, train_loss=0.281]"
     ]
    },
    {
     "name": "stderr",
     "output_type": "stream",
     "text": [
<<<<<<< HEAD
      "/home/vlsta001/git_projects/ncps-slaf/slaf-project/run.py:25: DtypeWarning: Columns (15,16,17,18,19) have mixed types. Specify dtype option on import or set low_memory=False.\n",
      "  df = pd.read_csv(path)\n",
      "GPU available: True, used: False\n",
      "TPU available: False, using: 0 TPU cores\n",
      "IPU available: False, using: 0 IPUs\n",
      "/opt/conda/lib/python3.10/site-packages/pytorch_lightning/trainer/trainer.py:1566: UserWarning: GPU available but not used. Set the gpus flag in your trainer `Trainer(gpus=1)` or script `--gpus=1`.\n",
      "  rank_zero_warn(\n",
      "/opt/conda/lib/python3.10/site-packages/pytorch_lightning/trainer/configuration_validator.py:118: UserWarning: You defined a `validation_step` but have no `val_dataloader`. Skipping val loop.\n",
=======
      "C:\\Users\\VID\\Desktop\\GitHub\\ncps-slaf\\slaf-project\\run.py:25: DtypeWarning: Columns (15,16,17,18,19) have mixed types. Specify dtype option on import or set low_memory=False.\n",
      "  df = pd.read_csv(path)\n"
     ]
    },
    {
     "name": "stdout",
     "output_type": "stream",
     "text": [
      "\n"
     ]
    },
    {
     "name": "stderr",
     "output_type": "stream",
     "text": [
      "GPU available: True, used: False\n",
      "TPU available: False, using: 0 TPU cores\n",
      "IPU available: False, using: 0 IPUs\n",
      "C:\\Users\\VID\\anaconda3\\envs\\lnn_slaf2\\lib\\site-packages\\pytorch_lightning\\trainer\\trainer.py:1566: UserWarning: GPU available but not used. Set the gpus flag in your trainer `Trainer(gpus=1)` or script `--gpus=1`.\n",
      "  rank_zero_warn(\n",
      "C:\\Users\\VID\\anaconda3\\envs\\lnn_slaf2\\lib\\site-packages\\pytorch_lightning\\trainer\\configuration_validator.py:118: UserWarning: You defined a `validation_step` but have no `val_dataloader`. Skipping val loop.\n",
>>>>>>> 2493d79fa1c884ba2dde418752c106b7f6d8fffd
      "  rank_zero_warn(\"You defined a `validation_step` but have no `val_dataloader`. Skipping val loop.\")\n",
      "\n",
      "  | Name  | Type | Params\n",
      "-------------------------------\n",
      "0 | model | LTC  | 2.1 K \n",
      "-------------------------------\n",
      "1.7 K     Trainable params\n",
      "416       Non-trainable params\n",
      "2.1 K     Total params\n",
      "0.009     Total estimated model params size (MB)\n",
      "C:\\Users\\VID\\anaconda3\\envs\\lnn_slaf2\\lib\\site-packages\\pytorch_lightning\\callbacks\\model_checkpoint.py:617: UserWarning: Checkpoint directory /home/vlsta001/git_projects/ncps-slaf/slaf-project/checkpoints exists and is not empty.\n",
      "  rank_zero_warn(f\"Checkpoint directory {dirpath} exists and is not empty.\")\n",
      "C:\\Users\\VID\\anaconda3\\envs\\lnn_slaf2\\lib\\site-packages\\pytorch_lightning\\trainer\\data_loading.py:393: UserWarning: The number of training samples (7) is smaller than the logging interval Trainer(log_every_n_steps=50). Set a lower value for log_every_n_steps if you want to see logs for the training epoch.\n",
      "  rank_zero_warn(\n"
     ]
    },
    {
<<<<<<< HEAD
     "data": {
      "application/vnd.jupyter.widget-view+json": {
       "model_id": "1309e522424a4c4c91efa99f45c80ee7",
       "version_major": 2,
       "version_minor": 0
      },
      "text/plain": [
       "Training: 0it [00:00, ?it/s]"
      ]
     },
     "metadata": {},
     "output_type": "display_data"
    },
    {
     "name": "stderr",
     "output_type": "stream",
     "text": [
      "GPU available: True, used: False\n",
      "TPU available: False, using: 0 TPU cores\n",
      "IPU available: False, using: 0 IPUs\n",
      "\n",
      "  | Name  | Type | Params\n",
      "-------------------------------\n",
      "0 | model | LTC  | 2.2 K \n",
      "-------------------------------\n",
      "1.7 K     Trainable params\n",
      "416       Non-trainable params\n",
      "2.2 K     Total params\n",
      "0.009     Total estimated model params size (MB)\n"
     ]
    },
    {
     "data": {
      "application/vnd.jupyter.widget-view+json": {
       "model_id": "56c98e513c384b1cb20dbd5b012280c7",
       "version_major": 2,
       "version_minor": 0
      },
      "text/plain": [
       "Training: 0it [00:00, ?it/s]"
      ]
     },
     "metadata": {},
     "output_type": "display_data"
    },
    {
     "name": "stderr",
     "output_type": "stream",
     "text": [
      "GPU available: True, used: False\n",
      "TPU available: False, using: 0 TPU cores\n",
      "IPU available: False, using: 0 IPUs\n",
      "\n",
      "  | Name  | Type | Params\n",
      "-------------------------------\n",
      "0 | model | LTC  | 2.1 K \n",
      "-------------------------------\n",
      "1.7 K     Trainable params\n",
      "416       Non-trainable params\n",
      "2.1 K     Total params\n",
      "0.009     Total estimated model params size (MB)\n"
     ]
    },
    {
     "data": {
      "application/vnd.jupyter.widget-view+json": {
       "model_id": "43152c5df49648eb9fca667fe61c0318",
       "version_major": 2,
       "version_minor": 0
      },
      "text/plain": [
       "Training: 0it [00:00, ?it/s]"
      ]
     },
     "metadata": {},
     "output_type": "display_data"
    },
    {
     "name": "stderr",
     "output_type": "stream",
     "text": [
      "GPU available: True, used: False\n",
      "TPU available: False, using: 0 TPU cores\n",
      "IPU available: False, using: 0 IPUs\n",
      "\n",
      "  | Name  | Type | Params\n",
      "-------------------------------\n",
      "0 | model | LTC  | 2.2 K \n",
      "-------------------------------\n",
      "1.7 K     Trainable params\n",
      "416       Non-trainable params\n",
      "2.2 K     Total params\n",
      "0.009     Total estimated model params size (MB)\n"
     ]
    },
    {
     "data": {
      "application/vnd.jupyter.widget-view+json": {
       "model_id": "f8ceb018c39d4b618da863c179c465b6",
       "version_major": 2,
       "version_minor": 0
      },
      "text/plain": [
       "Training: 0it [00:00, ?it/s]"
      ]
     },
     "metadata": {},
     "output_type": "display_data"
    },
    {
     "name": "stderr",
     "output_type": "stream",
     "text": [
      "GPU available: True, used: False\n",
      "TPU available: False, using: 0 TPU cores\n",
      "IPU available: False, using: 0 IPUs\n",
      "\n",
      "  | Name  | Type | Params\n",
      "-------------------------------\n",
      "0 | model | LTC  | 766   \n",
      "-------------------------------\n",
      "622       Trainable params\n",
      "144       Non-trainable params\n",
      "766       Total params\n",
      "0.003     Total estimated model params size (MB)\n"
     ]
    },
    {
     "data": {
      "application/vnd.jupyter.widget-view+json": {
       "model_id": "40a43f963d834c6a94f5e8fdf7a417b6",
       "version_major": 2,
       "version_minor": 0
      },
      "text/plain": [
       "Training: 0it [00:00, ?it/s]"
      ]
     },
     "metadata": {},
     "output_type": "display_data"
    },
    {
     "name": "stderr",
     "output_type": "stream",
     "text": [
      "GPU available: True, used: False\n",
      "TPU available: False, using: 0 TPU cores\n",
      "IPU available: False, using: 0 IPUs\n",
      "\n",
      "  | Name  | Type | Params\n",
      "-------------------------------\n",
      "0 | model | LTC  | 767   \n",
      "-------------------------------\n",
      "623       Trainable params\n",
      "144       Non-trainable params\n",
      "767       Total params\n",
      "0.003     Total estimated model params size (MB)\n"
     ]
    },
    {
     "data": {
      "application/vnd.jupyter.widget-view+json": {
       "model_id": "f150da341ebd468885c9e0b0a6667ff1",
       "version_major": 2,
       "version_minor": 0
      },
      "text/plain": [
       "Training: 0it [00:00, ?it/s]"
      ]
     },
     "metadata": {},
     "output_type": "display_data"
    },
    {
     "name": "stderr",
     "output_type": "stream",
     "text": [
      "GPU available: True, used: False\n",
      "TPU available: False, using: 0 TPU cores\n",
      "IPU available: False, using: 0 IPUs\n",
      "\n",
      "  | Name  | Type | Params\n",
      "-------------------------------\n",
      "0 | model | LTC  | 766   \n",
      "-------------------------------\n",
      "622       Trainable params\n",
      "144       Non-trainable params\n",
      "766       Total params\n",
      "0.003     Total estimated model params size (MB)\n"
     ]
    },
    {
     "data": {
      "application/vnd.jupyter.widget-view+json": {
       "model_id": "c46654640b5b45c0a2f01a9ba7b884f4",
       "version_major": 2,
       "version_minor": 0
      },
      "text/plain": [
       "Training: 0it [00:00, ?it/s]"
      ]
     },
     "metadata": {},
     "output_type": "display_data"
    },
    {
     "name": "stderr",
     "output_type": "stream",
     "text": [
      "GPU available: True, used: False\n",
      "TPU available: False, using: 0 TPU cores\n",
      "IPU available: False, using: 0 IPUs\n",
      "\n",
      "  | Name  | Type | Params\n",
      "-------------------------------\n",
      "0 | model | LTC  | 767   \n",
      "-------------------------------\n",
      "623       Trainable params\n",
      "144       Non-trainable params\n",
      "767       Total params\n",
      "0.003     Total estimated model params size (MB)\n"
     ]
    },
    {
     "data": {
      "application/vnd.jupyter.widget-view+json": {
       "model_id": "d47bf2789b9b4f2bb3d76d60abe02b28",
       "version_major": 2,
       "version_minor": 0
      },
      "text/plain": [
       "Training: 0it [00:00, ?it/s]"
      ]
     },
     "metadata": {},
     "output_type": "display_data"
    },
    {
     "name": "stderr",
     "output_type": "stream",
     "text": [
      "GPU available: True, used: False\n",
      "TPU available: False, using: 0 TPU cores\n",
      "IPU available: False, using: 0 IPUs\n",
      "\n",
      "  | Name  | Type | Params\n",
      "-------------------------------\n",
      "0 | model | LTC  | 6.8 K \n",
      "-------------------------------\n",
      "5.5 K     Trainable params\n",
      "1.3 K     Non-trainable params\n",
      "6.8 K     Total params\n",
      "0.027     Total estimated model params size (MB)\n"
     ]
    },
    {
     "data": {
      "application/vnd.jupyter.widget-view+json": {
       "model_id": "48bea8547da14038b16ca19e2312a709",
       "version_major": 2,
       "version_minor": 0
      },
      "text/plain": [
       "Training: 0it [00:00, ?it/s]"
      ]
     },
     "metadata": {},
     "output_type": "display_data"
    },
    {
     "name": "stderr",
     "output_type": "stream",
     "text": [
      "GPU available: True, used: False\n",
      "TPU available: False, using: 0 TPU cores\n",
      "IPU available: False, using: 0 IPUs\n",
      "\n",
      "  | Name  | Type | Params\n",
      "-------------------------------\n",
      "0 | model | LTC  | 6.8 K \n",
      "-------------------------------\n",
      "5.5 K     Trainable params\n",
      "1.3 K     Non-trainable params\n",
      "6.8 K     Total params\n",
      "0.027     Total estimated model params size (MB)\n"
     ]
    },
    {
     "data": {
      "application/vnd.jupyter.widget-view+json": {
       "model_id": "c0fe19b7f0ee4c7dbd44eab85b182463",
       "version_major": 2,
       "version_minor": 0
      },
      "text/plain": [
       "Training: 0it [00:00, ?it/s]"
      ]
     },
     "metadata": {},
     "output_type": "display_data"
    },
    {
     "name": "stderr",
     "output_type": "stream",
     "text": [
      "GPU available: True, used: False\n",
      "TPU available: False, using: 0 TPU cores\n",
      "IPU available: False, using: 0 IPUs\n",
      "\n",
      "  | Name  | Type | Params\n",
      "-------------------------------\n",
      "0 | model | LTC  | 6.8 K \n",
      "-------------------------------\n",
      "5.5 K     Trainable params\n",
      "1.3 K     Non-trainable params\n",
      "6.8 K     Total params\n",
      "0.027     Total estimated model params size (MB)\n"
     ]
    },
    {
     "data": {
      "application/vnd.jupyter.widget-view+json": {
       "model_id": "3062ac7ad07647468689411418fb0ceb",
       "version_major": 2,
       "version_minor": 0
      },
      "text/plain": [
       "Training: 0it [00:00, ?it/s]"
      ]
     },
     "metadata": {},
     "output_type": "display_data"
    },
    {
     "name": "stderr",
     "output_type": "stream",
     "text": [
      "GPU available: True, used: False\n",
      "TPU available: False, using: 0 TPU cores\n",
      "IPU available: False, using: 0 IPUs\n",
      "\n",
      "  | Name  | Type | Params\n",
      "-------------------------------\n",
      "0 | model | LTC  | 6.8 K \n",
      "-------------------------------\n",
      "5.5 K     Trainable params\n",
      "1.3 K     Non-trainable params\n",
      "6.8 K     Total params\n",
      "0.027     Total estimated model params size (MB)\n"
     ]
    },
    {
     "data": {
      "application/vnd.jupyter.widget-view+json": {
       "model_id": "b60e74bea6d74accbbeb58efaf50e3dc",
       "version_major": 2,
       "version_minor": 0
      },
      "text/plain": [
       "Training: 0it [00:00, ?it/s]"
      ]
     },
     "metadata": {},
     "output_type": "display_data"
    },
    {
     "name": "stdout",
     "output_type": "stream",
     "text": [
      "Best model saved at: /home/vlsta001/git_projects/ncps-slaf/slaf-project/checkpoints/model-lnn_units=8-lr=0.01-num_epochs=10-lnn_modified=True.ckpt with validation loss: 0.2119373232126236\n"
=======
     "name": "stdout",
     "output_type": "stream",
     "text": [
      "Epoch 1:   0%|          | 0/7 [00:00<?, ?it/s, loss=2.87e+04, v_num=10, train_loss=0.533]        "
>>>>>>> 2493d79fa1c884ba2dde418752c106b7f6d8fffd
     ]
    }
   ],
   "source": [
    "main()"
   ]
  },
  {
   "cell_type": "code",
<<<<<<< HEAD
   "execution_count": 1,
   "id": "7358d785-a0ba-4f83-95f3-474fcf954d68",
=======
   "execution_count": 15,
   "id": "911519f7-1553-49b2-b775-28ca1c5c488b",
   "metadata": {
    "tags": []
   },
   "outputs": [
    {
     "ename": "NameError",
     "evalue": "name 'x_features' is not defined",
     "output_type": "error",
     "traceback": [
      "\u001b[1;31m---------------------------------------------------------------------------\u001b[0m",
      "\u001b[1;31mNameError\u001b[0m                                 Traceback (most recent call last)",
      "Cell \u001b[1;32mIn[15], line 1\u001b[0m\n\u001b[1;32m----> 1\u001b[0m x_features \u001b[38;5;241m=\u001b[39m \u001b[43mx_features\u001b[49m\u001b[38;5;241m.\u001b[39mview(\u001b[38;5;241m1\u001b[39m, \u001b[38;5;241m-\u001b[39m\u001b[38;5;241m1\u001b[39m, \u001b[38;5;241m12\u001b[39m)\u001b[38;5;241m.\u001b[39mto(\u001b[38;5;124m\"\u001b[39m\u001b[38;5;124mcuda\u001b[39m\u001b[38;5;124m\"\u001b[39m)\n",
      "\u001b[1;31mNameError\u001b[0m: name 'x_features' is not defined"
     ]
    }
   ],
   "source": [
    "x_features = x_features.view(1, -1, 12).to(\"cuda\")"
   ]
  },
  {
   "cell_type": "code",
   "execution_count": 16,
   "id": "9cadd715-9cd1-48db-a596-9d71152ae94d",
>>>>>>> 2493d79fa1c884ba2dde418752c106b7f6d8fffd
   "metadata": {
    "tags": []
   },
   "outputs": [
    {
<<<<<<< HEAD
     "name": "stderr",
     "output_type": "stream",
     "text": [
      "2024-09-01 20:29:34.014874: I tensorflow/core/platform/cpu_feature_guard.cc:193] This TensorFlow binary is optimized with oneAPI Deep Neural Network Library (oneDNN) to use the following CPU instructions in performance-critical operations:  AVX2 FMA\n",
      "To enable them in other operations, rebuild TensorFlow with the appropriate compiler flags.\n"
=======
     "ename": "NameError",
     "evalue": "name 'torch' is not defined",
     "output_type": "error",
     "traceback": [
      "\u001b[1;31m---------------------------------------------------------------------------\u001b[0m",
      "\u001b[1;31mNameError\u001b[0m                                 Traceback (most recent call last)",
      "Cell \u001b[1;32mIn[16], line 1\u001b[0m\n\u001b[1;32m----> 1\u001b[0m \u001b[38;5;28;01mwith\u001b[39;00m \u001b[43mtorch\u001b[49m\u001b[38;5;241m.\u001b[39mno_grad():\n\u001b[0;32m      2\u001b[0m     prediction \u001b[38;5;241m=\u001b[39m ltc_model(x_features)[\u001b[38;5;241m0\u001b[39m]\u001b[38;5;241m.\u001b[39mcpu()\u001b[38;5;241m.\u001b[39mnumpy()\n",
      "\u001b[1;31mNameError\u001b[0m: name 'torch' is not defined"
>>>>>>> 2493d79fa1c884ba2dde418752c106b7f6d8fffd
     ]
    }
   ],
   "source": [
    "from run import read_data\n",
    "from config import Config\n",
    "import src.utils as utils\n",
    "import pandas as pd\n",
    "from torch import Tensor\n",
    "import pytorch_lightning as pl\n",
    "import torch.utils.data as data_utils\n",
    "from sklearn.preprocessing import MinMaxScaler\n",
    "from src.model import SequenceLearner\n",
    "from ncps.torch import LTC"
   ]
  },
  {
   "cell_type": "code",
   "execution_count": 29,
   "id": "2019c1bb-caff-4c0e-9a1e-c7b7e973288d",
   "metadata": {
    "tags": []
   },
   "outputs": [
    {
     "name": "stderr",
     "output_type": "stream",
     "text": [
      "/home/vlsta001/git_projects/ncps-slaf/slaf-project/run.py:25: DtypeWarning: Columns (15,16,17,18,19) have mixed types. Specify dtype option on import or set low_memory=False.\n",
      "  df = pd.read_csv(path)\n"
     ]
    }
   ],
   "source": [
    "device = \"cpu\"#\"cuda\" if torch.cuda.is_available() else \"cpu\"\n",
    "# data related section\n",
    "data_raw = read_data(Config.PATH)\n",
    "data_raw = utils.prepare_data(data_raw, station=Config.STATION, features=Config.FEATURES_LIST)\n",
    "\n",
    "\n",
    "test_data = data_raw.copy()\n",
    "test_data = utils.make_features(test_data, features=Config.FEATURES_LIST)\n",
    "\n",
    "x_features, y_features = utils.generate_test_data(\n",
    "    test_data,\n",
    "    Config.FILTER_DT_TILL,\n",
    "    features=Config.FEATURES_LIST,\n",
    "    push_y_by = 60,\n",
    "    unit = 'd',\n",
    ")\n",
    "\n",
    "x_test_scaler = MinMaxScaler()\n",
    "x_test_scaler, x_features = utils.normalize_data(\n",
    "    x_test_scaler,\n",
    "    x_features)\n",
    "\n",
    "y_test_scaler = MinMaxScaler()\n",
    "y_test_scaler, y_features = utils.normalize_data(\n",
    "    y_test_scaler,\n",
    "    y_features)\n",
    "\n",
    "out_features = y_features.shape[-1]\n",
    "in_features = x_features.shape[-1]\n",
    "\n",
    "ds = data_utils.TensorDataset(\n",
    "    Tensor(x_features), Tensor(y_features)\n",
    ")\n",
    "\n",
    "dataloader = data_utils.DataLoader(\n",
    "    ds,\n",
    "    batch_size=Config.BATCH_SIZE,\n",
    "    num_workers=Config.NUM_WORKERS,\n",
    "    shuffle=False, \n",
    ")"
   ]
  },
  {
   "cell_type": "code",
   "execution_count": 85,
   "id": "ded103c7-0e1f-4adf-be3f-eecde3a29e28",
   "metadata": {
    "tags": []
   },
   "outputs": [
    {
     "data": {
      "text/plain": [
       "LTC(\n",
       "  (rnn_cell): LTCCell(\n",
       "    (make_positive_fn): Softplus(beta=1, threshold=20)\n",
       "    (_clip): ReLU()\n",
       "  )\n",
       ")"
      ]
     },
     "execution_count": 85,
     "metadata": {},
     "output_type": "execute_result"
    }
   ],
   "source": [
    "trainer = SequenceLearner.load_from_checkpoint(\n",
    "    \"/home/vlsta001/git_projects/ncps-slaf/slaf-project/checkpoints/model-lnn_units=16-lr=0.01-num_epochs=10-lnn_modified=True-v1.ckpt\")\n",
    "model = trainer.model\n",
    "model.to(device)\n",
    "model.eval()"
   ]
  },
  {
   "cell_type": "code",
   "execution_count": 86,
   "id": "03cfabe6-f0aa-478f-be28-38a5dc683517",
   "metadata": {
    "tags": []
   },
   "outputs": [],
   "source": [
    "prediction = model(Tensor(x_features).view(1, -1, in_features).to(device))[0].detach().numpy()"
   ]
  },
  {
   "cell_type": "code",
   "execution_count": 83,
   "id": "ca34c2f7-66ef-4b25-b4c4-3ec902946a22",
   "metadata": {
    "tags": []
   },
   "outputs": [],
   "source": [
    "import matplotlib.pyplot as plt\n",
    "import seaborn as sns"
   ]
  },
  {
   "cell_type": "code",
   "execution_count": 87,
   "id": "3d767955-f65b-4d0f-a751-77fd3b1c6d0d",
   "metadata": {
    "tags": []
   },
   "outputs": [
    {
     "data": {
      "image/png": "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",
      "text/plain": [
       "<Figure size 600x400 with 1 Axes>"
      ]
     },
     "metadata": {},
     "output_type": "display_data"
    }
   ],
   "source": [
    "sns.set_theme()\n",
    "plt.figure(figsize=(6, 4))\n",
    "plt.plot(y_features[:, 0], label=\"Target output\")\n",
    "plt.plot(prediction[0, :, 0], label=\"NCP output\")\n",
    "\n",
    "plt.title(\"Before training\")\n",
    "plt.legend(loc=\"upper right\")\n",
    "plt.show()"
   ]
  },
  {
   "cell_type": "code",
   "execution_count": 11,
   "id": "5adee5da-f616-4022-b9d8-9c5015ff58c7",
   "metadata": {
    "tags": []
   },
   "outputs": [],
   "source": [
    "prediction = utils.denormalize_data(x_test_scaler, x_features)"
   ]
  },
  {
   "cell_type": "code",
   "execution_count": 12,
   "id": "aa6d56c8-862d-45b5-9f0d-fcecba7b62b8",
   "metadata": {
    "tags": []
   },
   "outputs": [
    {
     "data": {
      "text/plain": [
       "array([[14877.        , 11731.        , 14338.        , ...,\n",
       "        13997.63829787, 15360.        , 11972.        ],\n",
       "       [14588.        , 11396.        , 13966.        , ...,\n",
       "        14015.12765957, 15360.        , 11972.        ],\n",
       "       [14514.        , 11198.        , 13751.        , ...,\n",
       "        14033.08510638, 15360.        , 11972.        ],\n",
       "       ...,\n",
       "       [19352.        , 14047.        , 15618.        , ...,\n",
       "        17205.14893617, 19303.        , 15093.        ],\n",
       "       [18842.        , 13655.        , 15213.        , ...,\n",
       "        17173.19148936, 19303.        , 15093.        ],\n",
       "       [18234.        , 13240.        , 14496.        , ...,\n",
       "        17148.17021277, 19303.        , 15093.        ]])"
      ]
     },
     "execution_count": 12,
     "metadata": {},
     "output_type": "execute_result"
    }
   ],
   "source": [
    "prediction"
   ]
  },
  {
   "cell_type": "code",
   "execution_count": 5,
   "id": "8bf48a79-529a-4bb5-9fce-96b9c72e7e89",
   "metadata": {
    "tags": []
   },
   "outputs": [],
   "source": [
    "import torch\n",
    "torch.cuda.empty_cache()"
   ]
  },
  {
   "cell_type": "code",
   "execution_count": 18,
   "id": "63adada1-fa47-4a99-a5d9-79b3183b7ef3",
   "metadata": {
    "tags": []
   },
   "outputs": [],
   "source": []
  },
  {
   "cell_type": "code",
<<<<<<< HEAD
   "execution_count": null,
=======
   "execution_count": 19,
>>>>>>> 2493d79fa1c884ba2dde418752c106b7f6d8fffd
   "id": "240eef0b-5caa-4b52-a617-bbadf22cfe40",
   "metadata": {
    "tags": []
   },
<<<<<<< HEAD
   "outputs": [],
=======
   "outputs": [
    {
     "ename": "NameError",
     "evalue": "name 'ltc_model' is not defined",
     "output_type": "error",
     "traceback": [
      "\u001b[1;31m---------------------------------------------------------------------------\u001b[0m",
      "\u001b[1;31mNameError\u001b[0m                                 Traceback (most recent call last)",
      "Cell \u001b[1;32mIn[19], line 1\u001b[0m\n\u001b[1;32m----> 1\u001b[0m \u001b[43mltc_model\u001b[49m\u001b[38;5;241m.\u001b[39mrnn_cell\u001b[38;5;241m.\u001b[39m_params\n",
      "\u001b[1;31mNameError\u001b[0m: name 'ltc_model' is not defined"
     ]
    }
   ],
>>>>>>> 2493d79fa1c884ba2dde418752c106b7f6d8fffd
   "source": [
    "ltc_model.rnn_cell._params"
   ]
  },
  {
   "cell_type": "code",
   "execution_count": 20,
   "id": "7b6ad172-3c6e-4448-91dc-f55ebf2187c8",
   "metadata": {
    "tags": []
   },
   "outputs": [
    {
     "ename": "FileNotFoundError",
     "evalue": "[Errno 2] No such file or directory: 'C:/Users/VID/Desktop/GitHub/ncps-slaf/slaf-project/slaf-project/checkpoints/epoch=0-step=311-v14.ckpt'",
     "output_type": "error",
     "traceback": [
      "\u001b[1;31m---------------------------------------------------------------------------\u001b[0m",
      "\u001b[1;31mFileNotFoundError\u001b[0m                         Traceback (most recent call last)",
      "Cell \u001b[1;32mIn[20], line 1\u001b[0m\n\u001b[1;32m----> 1\u001b[0m model \u001b[38;5;241m=\u001b[39m \u001b[43mSequenceLearner\u001b[49m\u001b[38;5;241;43m.\u001b[39;49m\u001b[43mload_from_checkpoint\u001b[49m\u001b[43m(\u001b[49m\u001b[38;5;124;43m\"\u001b[39;49m\u001b[38;5;124;43m./slaf-project/checkpoints/epoch=0-step=311-v14.ckpt\u001b[39;49m\u001b[38;5;124;43m\"\u001b[39;49m\u001b[43m)\u001b[49m\n\u001b[0;32m      2\u001b[0m model\u001b[38;5;241m.\u001b[39mmodel\u001b[38;5;241m.\u001b[39mto(\u001b[38;5;124m\"\u001b[39m\u001b[38;5;124mcuda\u001b[39m\u001b[38;5;124m\"\u001b[39m)\n\u001b[0;32m      3\u001b[0m model\u001b[38;5;241m.\u001b[39mmodel\u001b[38;5;241m.\u001b[39meval()\n",
      "File \u001b[1;32m~\\anaconda3\\envs\\lnn_slaf2\\lib\\site-packages\\pytorch_lightning\\core\\saving.py:134\u001b[0m, in \u001b[0;36mModelIO.load_from_checkpoint\u001b[1;34m(cls, checkpoint_path, map_location, hparams_file, strict, **kwargs)\u001b[0m\n\u001b[0;32m    132\u001b[0m         checkpoint \u001b[38;5;241m=\u001b[39m pl_load(checkpoint_path, map_location\u001b[38;5;241m=\u001b[39mmap_location)\n\u001b[0;32m    133\u001b[0m     \u001b[38;5;28;01melse\u001b[39;00m:\n\u001b[1;32m--> 134\u001b[0m         checkpoint \u001b[38;5;241m=\u001b[39m \u001b[43mpl_load\u001b[49m\u001b[43m(\u001b[49m\u001b[43mcheckpoint_path\u001b[49m\u001b[43m,\u001b[49m\u001b[43m \u001b[49m\u001b[43mmap_location\u001b[49m\u001b[38;5;241;43m=\u001b[39;49m\u001b[38;5;28;43;01mlambda\u001b[39;49;00m\u001b[43m \u001b[49m\u001b[43mstorage\u001b[49m\u001b[43m,\u001b[49m\u001b[43m \u001b[49m\u001b[43mloc\u001b[49m\u001b[43m:\u001b[49m\u001b[43m \u001b[49m\u001b[43mstorage\u001b[49m\u001b[43m)\u001b[49m\n\u001b[0;32m    136\u001b[0m \u001b[38;5;28;01mif\u001b[39;00m hparams_file \u001b[38;5;129;01mis\u001b[39;00m \u001b[38;5;129;01mnot\u001b[39;00m \u001b[38;5;28;01mNone\u001b[39;00m:\n\u001b[0;32m    137\u001b[0m     extension \u001b[38;5;241m=\u001b[39m hparams_file\u001b[38;5;241m.\u001b[39msplit(\u001b[38;5;124m\"\u001b[39m\u001b[38;5;124m.\u001b[39m\u001b[38;5;124m\"\u001b[39m)[\u001b[38;5;241m-\u001b[39m\u001b[38;5;241m1\u001b[39m]\n",
      "File \u001b[1;32m~\\anaconda3\\envs\\lnn_slaf2\\lib\\site-packages\\pytorch_lightning\\utilities\\cloud_io.py:37\u001b[0m, in \u001b[0;36mload\u001b[1;34m(path_or_url, map_location)\u001b[0m\n\u001b[0;32m     35\u001b[0m     \u001b[38;5;28;01mreturn\u001b[39;00m torch\u001b[38;5;241m.\u001b[39mhub\u001b[38;5;241m.\u001b[39mload_state_dict_from_url(\u001b[38;5;28mstr\u001b[39m(path_or_url), map_location\u001b[38;5;241m=\u001b[39mmap_location)\n\u001b[0;32m     36\u001b[0m fs \u001b[38;5;241m=\u001b[39m get_filesystem(path_or_url)\n\u001b[1;32m---> 37\u001b[0m \u001b[38;5;28;01mwith\u001b[39;00m \u001b[43mfs\u001b[49m\u001b[38;5;241;43m.\u001b[39;49m\u001b[43mopen\u001b[49m\u001b[43m(\u001b[49m\u001b[43mpath_or_url\u001b[49m\u001b[43m,\u001b[49m\u001b[43m \u001b[49m\u001b[38;5;124;43m\"\u001b[39;49m\u001b[38;5;124;43mrb\u001b[39;49m\u001b[38;5;124;43m\"\u001b[39;49m\u001b[43m)\u001b[49m \u001b[38;5;28;01mas\u001b[39;00m f:\n\u001b[0;32m     38\u001b[0m     \u001b[38;5;28;01mreturn\u001b[39;00m torch\u001b[38;5;241m.\u001b[39mload(f, map_location\u001b[38;5;241m=\u001b[39mmap_location)\n",
      "File \u001b[1;32m~\\anaconda3\\envs\\lnn_slaf2\\lib\\site-packages\\fsspec\\spec.py:1303\u001b[0m, in \u001b[0;36mAbstractFileSystem.open\u001b[1;34m(self, path, mode, block_size, cache_options, compression, **kwargs)\u001b[0m\n\u001b[0;32m   1301\u001b[0m \u001b[38;5;28;01melse\u001b[39;00m:\n\u001b[0;32m   1302\u001b[0m     ac \u001b[38;5;241m=\u001b[39m kwargs\u001b[38;5;241m.\u001b[39mpop(\u001b[38;5;124m\"\u001b[39m\u001b[38;5;124mautocommit\u001b[39m\u001b[38;5;124m\"\u001b[39m, \u001b[38;5;129;01mnot\u001b[39;00m \u001b[38;5;28mself\u001b[39m\u001b[38;5;241m.\u001b[39m_intrans)\n\u001b[1;32m-> 1303\u001b[0m     f \u001b[38;5;241m=\u001b[39m \u001b[38;5;28mself\u001b[39m\u001b[38;5;241m.\u001b[39m_open(\n\u001b[0;32m   1304\u001b[0m         path,\n\u001b[0;32m   1305\u001b[0m         mode\u001b[38;5;241m=\u001b[39mmode,\n\u001b[0;32m   1306\u001b[0m         block_size\u001b[38;5;241m=\u001b[39mblock_size,\n\u001b[0;32m   1307\u001b[0m         autocommit\u001b[38;5;241m=\u001b[39mac,\n\u001b[0;32m   1308\u001b[0m         cache_options\u001b[38;5;241m=\u001b[39mcache_options,\n\u001b[0;32m   1309\u001b[0m         \u001b[38;5;241m*\u001b[39m\u001b[38;5;241m*\u001b[39mkwargs,\n\u001b[0;32m   1310\u001b[0m     )\n\u001b[0;32m   1311\u001b[0m     \u001b[38;5;28;01mif\u001b[39;00m compression \u001b[38;5;129;01mis\u001b[39;00m \u001b[38;5;129;01mnot\u001b[39;00m \u001b[38;5;28;01mNone\u001b[39;00m:\n\u001b[0;32m   1312\u001b[0m         \u001b[38;5;28;01mfrom\u001b[39;00m \u001b[38;5;21;01mfsspec\u001b[39;00m\u001b[38;5;21;01m.\u001b[39;00m\u001b[38;5;21;01mcompression\u001b[39;00m \u001b[38;5;28;01mimport\u001b[39;00m compr\n",
      "File \u001b[1;32m~\\anaconda3\\envs\\lnn_slaf2\\lib\\site-packages\\fsspec\\implementations\\local.py:191\u001b[0m, in \u001b[0;36mLocalFileSystem._open\u001b[1;34m(self, path, mode, block_size, **kwargs)\u001b[0m\n\u001b[0;32m    189\u001b[0m \u001b[38;5;28;01mif\u001b[39;00m \u001b[38;5;28mself\u001b[39m\u001b[38;5;241m.\u001b[39mauto_mkdir \u001b[38;5;129;01mand\u001b[39;00m \u001b[38;5;124m\"\u001b[39m\u001b[38;5;124mw\u001b[39m\u001b[38;5;124m\"\u001b[39m \u001b[38;5;129;01min\u001b[39;00m mode:\n\u001b[0;32m    190\u001b[0m     \u001b[38;5;28mself\u001b[39m\u001b[38;5;241m.\u001b[39mmakedirs(\u001b[38;5;28mself\u001b[39m\u001b[38;5;241m.\u001b[39m_parent(path), exist_ok\u001b[38;5;241m=\u001b[39m\u001b[38;5;28;01mTrue\u001b[39;00m)\n\u001b[1;32m--> 191\u001b[0m \u001b[38;5;28;01mreturn\u001b[39;00m LocalFileOpener(path, mode, fs\u001b[38;5;241m=\u001b[39m\u001b[38;5;28mself\u001b[39m, \u001b[38;5;241m*\u001b[39m\u001b[38;5;241m*\u001b[39mkwargs)\n",
      "File \u001b[1;32m~\\anaconda3\\envs\\lnn_slaf2\\lib\\site-packages\\fsspec\\implementations\\local.py:355\u001b[0m, in \u001b[0;36mLocalFileOpener.__init__\u001b[1;34m(self, path, mode, autocommit, fs, compression, **kwargs)\u001b[0m\n\u001b[0;32m    353\u001b[0m \u001b[38;5;28mself\u001b[39m\u001b[38;5;241m.\u001b[39mcompression \u001b[38;5;241m=\u001b[39m get_compression(path, compression)\n\u001b[0;32m    354\u001b[0m \u001b[38;5;28mself\u001b[39m\u001b[38;5;241m.\u001b[39mblocksize \u001b[38;5;241m=\u001b[39m io\u001b[38;5;241m.\u001b[39mDEFAULT_BUFFER_SIZE\n\u001b[1;32m--> 355\u001b[0m \u001b[38;5;28;43mself\u001b[39;49m\u001b[38;5;241;43m.\u001b[39;49m\u001b[43m_open\u001b[49m\u001b[43m(\u001b[49m\u001b[43m)\u001b[49m\n",
      "File \u001b[1;32m~\\anaconda3\\envs\\lnn_slaf2\\lib\\site-packages\\fsspec\\implementations\\local.py:360\u001b[0m, in \u001b[0;36mLocalFileOpener._open\u001b[1;34m(self)\u001b[0m\n\u001b[0;32m    358\u001b[0m \u001b[38;5;28;01mif\u001b[39;00m \u001b[38;5;28mself\u001b[39m\u001b[38;5;241m.\u001b[39mf \u001b[38;5;129;01mis\u001b[39;00m \u001b[38;5;28;01mNone\u001b[39;00m \u001b[38;5;129;01mor\u001b[39;00m \u001b[38;5;28mself\u001b[39m\u001b[38;5;241m.\u001b[39mf\u001b[38;5;241m.\u001b[39mclosed:\n\u001b[0;32m    359\u001b[0m     \u001b[38;5;28;01mif\u001b[39;00m \u001b[38;5;28mself\u001b[39m\u001b[38;5;241m.\u001b[39mautocommit \u001b[38;5;129;01mor\u001b[39;00m \u001b[38;5;124m\"\u001b[39m\u001b[38;5;124mw\u001b[39m\u001b[38;5;124m\"\u001b[39m \u001b[38;5;129;01mnot\u001b[39;00m \u001b[38;5;129;01min\u001b[39;00m \u001b[38;5;28mself\u001b[39m\u001b[38;5;241m.\u001b[39mmode:\n\u001b[1;32m--> 360\u001b[0m         \u001b[38;5;28mself\u001b[39m\u001b[38;5;241m.\u001b[39mf \u001b[38;5;241m=\u001b[39m \u001b[38;5;28;43mopen\u001b[39;49m\u001b[43m(\u001b[49m\u001b[38;5;28;43mself\u001b[39;49m\u001b[38;5;241;43m.\u001b[39;49m\u001b[43mpath\u001b[49m\u001b[43m,\u001b[49m\u001b[43m \u001b[49m\u001b[43mmode\u001b[49m\u001b[38;5;241;43m=\u001b[39;49m\u001b[38;5;28;43mself\u001b[39;49m\u001b[38;5;241;43m.\u001b[39;49m\u001b[43mmode\u001b[49m\u001b[43m)\u001b[49m\n\u001b[0;32m    361\u001b[0m         \u001b[38;5;28;01mif\u001b[39;00m \u001b[38;5;28mself\u001b[39m\u001b[38;5;241m.\u001b[39mcompression:\n\u001b[0;32m    362\u001b[0m             compress \u001b[38;5;241m=\u001b[39m compr[\u001b[38;5;28mself\u001b[39m\u001b[38;5;241m.\u001b[39mcompression]\n",
      "\u001b[1;31mFileNotFoundError\u001b[0m: [Errno 2] No such file or directory: 'C:/Users/VID/Desktop/GitHub/ncps-slaf/slaf-project/slaf-project/checkpoints/epoch=0-step=311-v14.ckpt'"
     ]
    }
   ],
   "source": [
    "model = SequenceLearner.load_from_checkpoint(\"log/default/version_5/epoch=0-step=311-v14.ckpt\")\n",
    "model.model.to(\"cuda\")\n",
    "model.model.eval()"
   ]
  },
  {
   "cell_type": "code",
   "execution_count": 33,
   "id": "d11859e0-5b7f-4f08-a2f3-da31a8234f4b",
   "metadata": {
    "tags": []
   },
   "outputs": [
    {
     "data": {
      "text/plain": [
       "tensor([[[0.2900, 0.2262, 0.2055,  ..., 1.0000, 0.0000, 0.0000],\n",
       "         [0.2594, 0.1932, 0.1697,  ..., 0.0000, 0.0000, 0.0000],\n",
       "         [0.2398, 0.1805, 0.1433,  ..., 0.0000, 0.0000, 0.0000],\n",
       "         ...,\n",
       "         [0.5665, 0.3527, 0.4628,  ..., 0.0000, 0.0000, 0.0000],\n",
       "         [0.5246, 0.3314, 0.4441,  ..., 0.0000, 0.0000, 0.0000],\n",
       "         [0.4662, 0.3093, 0.3949,  ..., 0.0000, 0.0000, 0.0000]]],\n",
       "       device='cuda:0')"
      ]
     },
     "execution_count": 33,
     "metadata": {},
     "output_type": "execute_result"
    }
   ],
   "source": [
    "x_features"
   ]
  },
  {
   "cell_type": "code",
   "execution_count": 34,
   "id": "048734bf-841c-4523-ab40-45b66f9dd3ea",
   "metadata": {
    "tags": []
   },
   "outputs": [],
   "source": [
    "# predict with the model\n",
    "y_hat = model.model(x_features)"
   ]
  },
  {
   "cell_type": "code",
   "execution_count": null,
   "id": "78723725-6dad-48e6-988b-6d1afa380add",
   "metadata": {
    "tags": []
   },
   "outputs": [],
   "source": [
    "y_hat"
   ]
  }
 ],
 "metadata": {
  "kernelspec": {
   "display_name": "Python 3 (ipykernel)",
   "language": "python",
   "name": "python3"
  },
  "language_info": {
   "codemirror_mode": {
    "name": "ipython",
    "version": 3
   },
   "file_extension": ".py",
   "mimetype": "text/x-python",
   "name": "python",
   "nbconvert_exporter": "python",
   "pygments_lexer": "ipython3",
   "version": "3.10.14"
  }
 },
 "nbformat": 4,
 "nbformat_minor": 5
}
