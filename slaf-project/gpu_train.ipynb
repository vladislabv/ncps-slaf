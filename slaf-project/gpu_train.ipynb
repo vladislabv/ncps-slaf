{
 "cells": [
  {
   "cell_type": "code",
   "execution_count": 5,
   "id": "7b6db5e3-46bd-4bc3-a41d-8cb3432a7019",
   "metadata": {
    "tags": []
   },
   "outputs": [
    {
     "name": "stdout",
     "output_type": "stream",
     "text": [
      "running install\n",
      "running bdist_egg\n",
      "running egg_info\n",
      "writing ncps.egg-info\\PKG-INFO\n",
      "writing dependency_links to ncps.egg-info\\dependency_links.txt\n",
      "writing requirements to ncps.egg-info\\requires.txt\n",
      "writing top-level names to ncps.egg-info\\top_level.txt\n",
      "reading manifest file 'ncps.egg-info\\SOURCES.txt'\n",
      "adding license file 'LICENSE'\n",
      "writing manifest file 'ncps.egg-info\\SOURCES.txt'\n",
      "installing library code to build\\bdist.win-amd64\\egg\n",
      "running install_lib\n",
      "running build_py\n",
      "copying ncps\\__init__.py -> build\\lib\\ncps\n",
      "copying ncps\\datasets\\icra2020_lidar_collision_avoidance.py -> build\\lib\\ncps\\datasets\n",
      "copying ncps\\datasets\\utils.py -> build\\lib\\ncps\\datasets\n",
      "copying ncps\\datasets\\__init__.py -> build\\lib\\ncps\\datasets\n",
      "copying ncps\\keras\\cfc.py -> build\\lib\\ncps\\keras\n",
      "copying ncps\\keras\\cfc_cell.py -> build\\lib\\ncps\\keras\n",
      "copying ncps\\keras\\ltc.py -> build\\lib\\ncps\\keras\n",
      "copying ncps\\keras\\ltc_cell.py -> build\\lib\\ncps\\keras\n",
      "copying ncps\\keras\\mm_rnn.py -> build\\lib\\ncps\\keras\n",
      "copying ncps\\keras\\wired_cfc_cell.py -> build\\lib\\ncps\\keras\n",
      "copying ncps\\keras\\__init__.py -> build\\lib\\ncps\\keras\n",
      "copying ncps\\paddle\\ltc_cell.py -> build\\lib\\ncps\\paddle\n",
      "copying ncps\\paddle\\__init__.py -> build\\lib\\ncps\\paddle\n",
      "copying ncps\\tf\\cfc.py -> build\\lib\\ncps\\tf\n",
      "copying ncps\\tf\\cfc_cell.py -> build\\lib\\ncps\\tf\n",
      "copying ncps\\tf\\ltc.py -> build\\lib\\ncps\\tf\n",
      "copying ncps\\tf\\ltc_cell.py -> build\\lib\\ncps\\tf\n",
      "copying ncps\\tf\\mm_rnn.py -> build\\lib\\ncps\\tf\n",
      "copying ncps\\tf\\wired_cfc_cell.py -> build\\lib\\ncps\\tf\n",
      "copying ncps\\tf\\__init__.py -> build\\lib\\ncps\\tf\n",
      "copying ncps\\torch\\cfc.py -> build\\lib\\ncps\\torch\n",
      "copying ncps\\torch\\cfc_cell.py -> build\\lib\\ncps\\torch\n",
      "copying ncps\\torch\\lstm.py -> build\\lib\\ncps\\torch\n",
      "copying ncps\\torch\\ltc.py -> build\\lib\\ncps\\torch\n",
      "copying ncps\\torch\\ltc_cell.py -> build\\lib\\ncps\\torch\n",
      "copying ncps\\torch\\wired_cfc_cell.py -> build\\lib\\ncps\\torch\n",
      "copying ncps\\torch\\__init__.py -> build\\lib\\ncps\\torch\n",
      "copying ncps\\wirings\\wirings.py -> build\\lib\\ncps\\wirings\n",
      "copying ncps\\wirings\\__init__.py -> build\\lib\\ncps\\wirings\n",
      "copying ncps\\datasets\\tf\\atari_cloning.py -> build\\lib\\ncps\\datasets\\tf\n",
      "copying ncps\\datasets\\tf\\__init__.py -> build\\lib\\ncps\\datasets\\tf\n",
      "copying ncps\\datasets\\torch\\atari_cloning.py -> build\\lib\\ncps\\datasets\\torch\n",
      "copying ncps\\datasets\\torch\\__init__.py -> build\\lib\\ncps\\datasets\\torch\n",
      "creating build\\bdist.win-amd64\\egg\n",
      "creating build\\bdist.win-amd64\\egg\\ncps\n",
      "creating build\\bdist.win-amd64\\egg\\ncps\\datasets\n",
      "copying build\\lib\\ncps\\datasets\\icra2020_lidar_collision_avoidance.py -> build\\bdist.win-amd64\\egg\\ncps\\datasets\n",
      "creating build\\bdist.win-amd64\\egg\\ncps\\datasets\\tf\n",
      "copying build\\lib\\ncps\\datasets\\tf\\atari_cloning.py -> build\\bdist.win-amd64\\egg\\ncps\\datasets\\tf\n",
      "copying build\\lib\\ncps\\datasets\\tf\\__init__.py -> build\\bdist.win-amd64\\egg\\ncps\\datasets\\tf\n",
      "creating build\\bdist.win-amd64\\egg\\ncps\\datasets\\torch\n",
      "copying build\\lib\\ncps\\datasets\\torch\\atari_cloning.py -> build\\bdist.win-amd64\\egg\\ncps\\datasets\\torch\n",
      "copying build\\lib\\ncps\\datasets\\torch\\__init__.py -> build\\bdist.win-amd64\\egg\\ncps\\datasets\\torch\n",
      "copying build\\lib\\ncps\\datasets\\utils.py -> build\\bdist.win-amd64\\egg\\ncps\\datasets\n",
      "copying build\\lib\\ncps\\datasets\\__init__.py -> build\\bdist.win-amd64\\egg\\ncps\\datasets\n",
      "creating build\\bdist.win-amd64\\egg\\ncps\\keras\n",
      "copying build\\lib\\ncps\\keras\\cfc.py -> build\\bdist.win-amd64\\egg\\ncps\\keras\n",
      "copying build\\lib\\ncps\\keras\\cfc_cell.py -> build\\bdist.win-amd64\\egg\\ncps\\keras\n",
      "copying build\\lib\\ncps\\keras\\ltc.py -> build\\bdist.win-amd64\\egg\\ncps\\keras\n",
      "copying build\\lib\\ncps\\keras\\ltc_cell.py -> build\\bdist.win-amd64\\egg\\ncps\\keras\n",
      "copying build\\lib\\ncps\\keras\\mm_rnn.py -> build\\bdist.win-amd64\\egg\\ncps\\keras\n",
      "copying build\\lib\\ncps\\keras\\wired_cfc_cell.py -> build\\bdist.win-amd64\\egg\\ncps\\keras\n",
      "copying build\\lib\\ncps\\keras\\__init__.py -> build\\bdist.win-amd64\\egg\\ncps\\keras\n",
      "creating build\\bdist.win-amd64\\egg\\ncps\\paddle\n",
      "copying build\\lib\\ncps\\paddle\\ltc_cell.py -> build\\bdist.win-amd64\\egg\\ncps\\paddle\n",
      "copying build\\lib\\ncps\\paddle\\__init__.py -> build\\bdist.win-amd64\\egg\\ncps\\paddle\n",
      "creating build\\bdist.win-amd64\\egg\\ncps\\tf\n",
      "copying build\\lib\\ncps\\tf\\cfc.py -> build\\bdist.win-amd64\\egg\\ncps\\tf\n",
      "copying build\\lib\\ncps\\tf\\cfc_cell.py -> build\\bdist.win-amd64\\egg\\ncps\\tf\n",
      "copying build\\lib\\ncps\\tf\\ltc.py -> build\\bdist.win-amd64\\egg\\ncps\\tf\n",
      "copying build\\lib\\ncps\\tf\\ltc_cell.py -> build\\bdist.win-amd64\\egg\\ncps\\tf\n",
      "copying build\\lib\\ncps\\tf\\mm_rnn.py -> build\\bdist.win-amd64\\egg\\ncps\\tf\n",
      "copying build\\lib\\ncps\\tf\\wired_cfc_cell.py -> build\\bdist.win-amd64\\egg\\ncps\\tf\n",
      "copying build\\lib\\ncps\\tf\\__init__.py -> build\\bdist.win-amd64\\egg\\ncps\\tf\n",
      "creating build\\bdist.win-amd64\\egg\\ncps\\torch\n",
      "copying build\\lib\\ncps\\torch\\cfc.py -> build\\bdist.win-amd64\\egg\\ncps\\torch\n",
      "copying build\\lib\\ncps\\torch\\cfc_cell.py -> build\\bdist.win-amd64\\egg\\ncps\\torch\n",
      "copying build\\lib\\ncps\\torch\\lstm.py -> build\\bdist.win-amd64\\egg\\ncps\\torch\n",
      "copying build\\lib\\ncps\\torch\\ltc.py -> build\\bdist.win-amd64\\egg\\ncps\\torch\n",
      "copying build\\lib\\ncps\\torch\\ltc_cell.py -> build\\bdist.win-amd64\\egg\\ncps\\torch\n",
      "copying build\\lib\\ncps\\torch\\wired_cfc_cell.py -> build\\bdist.win-amd64\\egg\\ncps\\torch\n",
      "copying build\\lib\\ncps\\torch\\__init__.py -> build\\bdist.win-amd64\\egg\\ncps\\torch\n",
      "creating build\\bdist.win-amd64\\egg\\ncps\\wirings\n",
      "copying build\\lib\\ncps\\wirings\\wirings.py -> build\\bdist.win-amd64\\egg\\ncps\\wirings\n",
      "copying build\\lib\\ncps\\wirings\\__init__.py -> build\\bdist.win-amd64\\egg\\ncps\\wirings\n",
      "copying build\\lib\\ncps\\__init__.py -> build\\bdist.win-amd64\\egg\\ncps\n",
      "byte-compiling build\\bdist.win-amd64\\egg\\ncps\\datasets\\icra2020_lidar_collision_avoidance.py to icra2020_lidar_collision_avoidance.cpython-310.pyc\n",
      "byte-compiling build\\bdist.win-amd64\\egg\\ncps\\datasets\\tf\\atari_cloning.py to atari_cloning.cpython-310.pyc\n",
      "byte-compiling build\\bdist.win-amd64\\egg\\ncps\\datasets\\tf\\__init__.py to __init__.cpython-310.pyc\n",
      "byte-compiling build\\bdist.win-amd64\\egg\\ncps\\datasets\\torch\\atari_cloning.py to atari_cloning.cpython-310.pyc\n",
      "byte-compiling build\\bdist.win-amd64\\egg\\ncps\\datasets\\torch\\__init__.py to __init__.cpython-310.pyc\n",
      "byte-compiling build\\bdist.win-amd64\\egg\\ncps\\datasets\\utils.py to utils.cpython-310.pyc\n",
      "byte-compiling build\\bdist.win-amd64\\egg\\ncps\\datasets\\__init__.py to __init__.cpython-310.pyc\n",
      "byte-compiling build\\bdist.win-amd64\\egg\\ncps\\keras\\cfc.py to cfc.cpython-310.pyc\n",
      "byte-compiling build\\bdist.win-amd64\\egg\\ncps\\keras\\cfc_cell.py to cfc_cell.cpython-310.pyc\n",
      "byte-compiling build\\bdist.win-amd64\\egg\\ncps\\keras\\ltc.py to ltc.cpython-310.pyc\n",
      "byte-compiling build\\bdist.win-amd64\\egg\\ncps\\keras\\ltc_cell.py to ltc_cell.cpython-310.pyc\n",
      "byte-compiling build\\bdist.win-amd64\\egg\\ncps\\keras\\mm_rnn.py to mm_rnn.cpython-310.pyc\n",
      "byte-compiling build\\bdist.win-amd64\\egg\\ncps\\keras\\wired_cfc_cell.py to wired_cfc_cell.cpython-310.pyc\n",
      "byte-compiling build\\bdist.win-amd64\\egg\\ncps\\keras\\__init__.py to __init__.cpython-310.pyc\n",
      "byte-compiling build\\bdist.win-amd64\\egg\\ncps\\paddle\\ltc_cell.py to ltc_cell.cpython-310.pyc\n",
      "byte-compiling build\\bdist.win-amd64\\egg\\ncps\\paddle\\__init__.py to __init__.cpython-310.pyc\n",
      "byte-compiling build\\bdist.win-amd64\\egg\\ncps\\tf\\cfc.py to cfc.cpython-310.pyc\n",
      "byte-compiling build\\bdist.win-amd64\\egg\\ncps\\tf\\cfc_cell.py to cfc_cell.cpython-310.pyc\n",
      "byte-compiling build\\bdist.win-amd64\\egg\\ncps\\tf\\ltc.py to ltc.cpython-310.pyc\n",
      "byte-compiling build\\bdist.win-amd64\\egg\\ncps\\tf\\ltc_cell.py to ltc_cell.cpython-310.pyc\n",
      "byte-compiling build\\bdist.win-amd64\\egg\\ncps\\tf\\mm_rnn.py to mm_rnn.cpython-310.pyc\n",
      "byte-compiling build\\bdist.win-amd64\\egg\\ncps\\tf\\wired_cfc_cell.py to wired_cfc_cell.cpython-310.pyc\n",
      "byte-compiling build\\bdist.win-amd64\\egg\\ncps\\tf\\__init__.py to __init__.cpython-310.pyc\n",
      "byte-compiling build\\bdist.win-amd64\\egg\\ncps\\torch\\cfc.py to cfc.cpython-310.pyc\n",
      "byte-compiling build\\bdist.win-amd64\\egg\\ncps\\torch\\cfc_cell.py to cfc_cell.cpython-310.pyc\n",
      "byte-compiling build\\bdist.win-amd64\\egg\\ncps\\torch\\lstm.py to lstm.cpython-310.pyc\n",
      "byte-compiling build\\bdist.win-amd64\\egg\\ncps\\torch\\ltc.py to ltc.cpython-310.pyc\n",
      "byte-compiling build\\bdist.win-amd64\\egg\\ncps\\torch\\ltc_cell.py to ltc_cell.cpython-310.pyc\n",
      "byte-compiling build\\bdist.win-amd64\\egg\\ncps\\torch\\wired_cfc_cell.py to wired_cfc_cell.cpython-310.pyc\n",
      "byte-compiling build\\bdist.win-amd64\\egg\\ncps\\torch\\__init__.py to __init__.cpython-310.pyc\n",
      "byte-compiling build\\bdist.win-amd64\\egg\\ncps\\wirings\\wirings.py to wirings.cpython-310.pyc\n",
      "byte-compiling build\\bdist.win-amd64\\egg\\ncps\\wirings\\__init__.py to __init__.cpython-310.pyc\n",
      "byte-compiling build\\bdist.win-amd64\\egg\\ncps\\__init__.py to __init__.cpython-310.pyc\n",
      "creating build\\bdist.win-amd64\\egg\\EGG-INFO\n",
      "copying ncps.egg-info\\PKG-INFO -> build\\bdist.win-amd64\\egg\\EGG-INFO\n",
      "copying ncps.egg-info\\SOURCES.txt -> build\\bdist.win-amd64\\egg\\EGG-INFO\n",
      "copying ncps.egg-info\\dependency_links.txt -> build\\bdist.win-amd64\\egg\\EGG-INFO\n",
      "copying ncps.egg-info\\requires.txt -> build\\bdist.win-amd64\\egg\\EGG-INFO\n",
      "copying ncps.egg-info\\top_level.txt -> build\\bdist.win-amd64\\egg\\EGG-INFO\n",
      "creating 'dist\\ncps-1.0.0-py3.10.egg' and adding 'build\\bdist.win-amd64\\egg' to it\n",
      "removing 'build\\bdist.win-amd64\\egg' (and everything under it)\n",
      "Processing ncps-1.0.0-py3.10.egg\n",
      "Removing c:\\users\\vid\\anaconda3\\envs\\lnn_slaf2\\lib\\site-packages\\ncps-1.0.0-py3.10.egg\n"
     ]
    },
    {
     "name": "stderr",
     "output_type": "stream",
     "text": [
      "C:\\Users\\VID\\anaconda3\\envs\\lnn_slaf2\\lib\\site-packages\\setuptools\\_distutils\\cmd.py:66: SetuptoolsDeprecationWarning: setup.py install is deprecated.\n",
      "!!\n",
      "\n",
      "        ********************************************************************************\n",
      "        Please avoid running ``setup.py`` directly.\n",
      "        Instead, use pypa/build, pypa/installer or other\n",
      "        standards-based tools.\n",
      "\n",
      "        See https://blog.ganssle.io/articles/2021/10/setup-py-deprecated.html for details.\n",
      "        ********************************************************************************\n",
      "\n",
      "!!\n",
      "  self.initialize_options()\n",
      "C:\\Users\\VID\\anaconda3\\envs\\lnn_slaf2\\lib\\site-packages\\setuptools\\_distutils\\cmd.py:66: EasyInstallDeprecationWarning: easy_install command is deprecated.\n",
      "!!\n",
      "\n",
      "        ********************************************************************************\n",
      "        Please avoid running ``setup.py`` and ``easy_install``.\n",
      "        Instead, use pypa/build, pypa/installer or other\n",
      "        standards-based tools.\n",
      "\n",
      "        See https://github.com/pypa/setuptools/issues/917 for details.\n",
      "        ********************************************************************************\n",
      "\n",
      "!!\n",
      "  self.initialize_options()\n",
      "zip_safe flag not set; analyzing archive contents...\n",
      "error: [WinError 32] Der Prozess kann nicht auf die Datei zugreifen, da sie von einem anderen Prozess verwendet wird: 'c:\\\\users\\\\vid\\\\anaconda3\\\\envs\\\\lnn_slaf2\\\\lib\\\\site-packages\\\\ncps-1.0.0-py3.10.egg'\n"
     ]
    }
   ],
   "source": [
    "# make sure it is done before starting to train\n",
    "!cd .. && python setup.py install && pip install pytorch_lightning==1.5"
   ]
  },
  {
   "cell_type": "code",
   "execution_count": 5,
   "id": "df62daf6-4140-4c68-b9e2-7a06f4f61ff2",
   "metadata": {
    "tags": []
   },
   "outputs": [
    {
     "name": "stdout",
     "output_type": "stream",
     "text": [
      "The autoreload extension is already loaded. To reload it, use:\n",
      "  %reload_ext autoreload\n"
     ]
    }
   ],
   "source": [
    "from run import main\n",
    "\n",
    "%load_ext autoreload\n",
    "%autoreload 2"
   ]
  },
  {
   "cell_type": "code",
   "execution_count": null,
   "id": "5bcfc68f-d279-40dc-beb9-1f36fd73ce58",
   "metadata": {
    "tags": []
   },
   "outputs": [
    {
     "name": "stdout",
     "output_type": "stream",
     "text": [
      "Epoch 0:  44%|████▍     | 69/157 [01:35<02:02,  1.39s/it, loss=50, v_num=8, train_loss=0.281]"
     ]
    },
    {
     "name": "stderr",
     "output_type": "stream",
     "text": [
      "C:\\Users\\VID\\Desktop\\GitHub\\ncps-slaf\\slaf-project\\run.py:25: DtypeWarning: Columns (15,16,17,18,19) have mixed types. Specify dtype option on import or set low_memory=False.\n",
      "  df = pd.read_csv(path)\n"
     ]
    },
    {
     "name": "stdout",
     "output_type": "stream",
     "text": [
      "\n"
     ]
    },
    {
     "name": "stderr",
     "output_type": "stream",
     "text": [
      "GPU available: True, used: False\n",
      "TPU available: False, using: 0 TPU cores\n",
      "IPU available: False, using: 0 IPUs\n",
      "C:\\Users\\VID\\anaconda3\\envs\\lnn_slaf2\\lib\\site-packages\\pytorch_lightning\\trainer\\trainer.py:1566: UserWarning: GPU available but not used. Set the gpus flag in your trainer `Trainer(gpus=1)` or script `--gpus=1`.\n",
      "  rank_zero_warn(\n",
      "C:\\Users\\VID\\anaconda3\\envs\\lnn_slaf2\\lib\\site-packages\\pytorch_lightning\\trainer\\configuration_validator.py:118: UserWarning: You defined a `validation_step` but have no `val_dataloader`. Skipping val loop.\n",
      "  rank_zero_warn(\"You defined a `validation_step` but have no `val_dataloader`. Skipping val loop.\")\n",
      "\n",
      "  | Name  | Type | Params\n",
      "-------------------------------\n",
      "0 | model | LTC  | 2.1 K \n",
      "-------------------------------\n",
      "1.7 K     Trainable params\n",
      "416       Non-trainable params\n",
      "2.1 K     Total params\n",
      "0.009     Total estimated model params size (MB)\n",
      "C:\\Users\\VID\\anaconda3\\envs\\lnn_slaf2\\lib\\site-packages\\pytorch_lightning\\callbacks\\model_checkpoint.py:617: UserWarning: Checkpoint directory /home/vlsta001/git_projects/ncps-slaf/slaf-project/checkpoints exists and is not empty.\n",
      "  rank_zero_warn(f\"Checkpoint directory {dirpath} exists and is not empty.\")\n",
      "C:\\Users\\VID\\anaconda3\\envs\\lnn_slaf2\\lib\\site-packages\\pytorch_lightning\\trainer\\data_loading.py:393: UserWarning: The number of training samples (7) is smaller than the logging interval Trainer(log_every_n_steps=50). Set a lower value for log_every_n_steps if you want to see logs for the training epoch.\n",
      "  rank_zero_warn(\n"
     ]
    },
    {
     "name": "stdout",
     "output_type": "stream",
     "text": [
      "Epoch 1:   0%|          | 0/7 [00:00<?, ?it/s, loss=2.87e+04, v_num=10, train_loss=0.533]        "
     ]
    }
   ],
   "source": [
    "main()"
   ]
  },
  {
   "cell_type": "code",
   "execution_count": 15,
   "id": "911519f7-1553-49b2-b775-28ca1c5c488b",
   "metadata": {
    "tags": []
   },
   "outputs": [
    {
     "ename": "NameError",
     "evalue": "name 'x_features' is not defined",
     "output_type": "error",
     "traceback": [
      "\u001b[1;31m---------------------------------------------------------------------------\u001b[0m",
      "\u001b[1;31mNameError\u001b[0m                                 Traceback (most recent call last)",
      "Cell \u001b[1;32mIn[15], line 1\u001b[0m\n\u001b[1;32m----> 1\u001b[0m x_features \u001b[38;5;241m=\u001b[39m \u001b[43mx_features\u001b[49m\u001b[38;5;241m.\u001b[39mview(\u001b[38;5;241m1\u001b[39m, \u001b[38;5;241m-\u001b[39m\u001b[38;5;241m1\u001b[39m, \u001b[38;5;241m12\u001b[39m)\u001b[38;5;241m.\u001b[39mto(\u001b[38;5;124m\"\u001b[39m\u001b[38;5;124mcuda\u001b[39m\u001b[38;5;124m\"\u001b[39m)\n",
      "\u001b[1;31mNameError\u001b[0m: name 'x_features' is not defined"
     ]
    }
   ],
   "source": [
    "x_features = x_features.view(1, -1, 12).to(\"cuda\")"
   ]
  },
  {
   "cell_type": "code",
   "execution_count": 16,
   "id": "9cadd715-9cd1-48db-a596-9d71152ae94d",
   "metadata": {
    "tags": []
   },
   "outputs": [
    {
     "ename": "NameError",
     "evalue": "name 'torch' is not defined",
     "output_type": "error",
     "traceback": [
      "\u001b[1;31m---------------------------------------------------------------------------\u001b[0m",
      "\u001b[1;31mNameError\u001b[0m                                 Traceback (most recent call last)",
      "Cell \u001b[1;32mIn[16], line 1\u001b[0m\n\u001b[1;32m----> 1\u001b[0m \u001b[38;5;28;01mwith\u001b[39;00m \u001b[43mtorch\u001b[49m\u001b[38;5;241m.\u001b[39mno_grad():\n\u001b[0;32m      2\u001b[0m     prediction \u001b[38;5;241m=\u001b[39m ltc_model(x_features)[\u001b[38;5;241m0\u001b[39m]\u001b[38;5;241m.\u001b[39mcpu()\u001b[38;5;241m.\u001b[39mnumpy()\n",
      "\u001b[1;31mNameError\u001b[0m: name 'torch' is not defined"
     ]
    }
   ],
   "source": [
    "with torch.no_grad():\n",
    "    prediction = ltc_model(x_features)[0].cpu().numpy()"
   ]
  },
  {
   "cell_type": "code",
   "execution_count": 5,
   "id": "8bf48a79-529a-4bb5-9fce-96b9c72e7e89",
   "metadata": {
    "tags": []
   },
   "outputs": [],
   "source": [
    "import torch\n",
    "torch.cuda.empty_cache()"
   ]
  },
  {
   "cell_type": "code",
   "execution_count": 18,
   "id": "63adada1-fa47-4a99-a5d9-79b3183b7ef3",
   "metadata": {
    "tags": []
   },
   "outputs": [],
   "source": [
    "import pytorch_lightning as pl\n",
    "from src.model import SequenceLearner\n",
    "from ncps.torch import LTC"
   ]
  },
  {
   "cell_type": "code",
   "execution_count": 19,
   "id": "240eef0b-5caa-4b52-a617-bbadf22cfe40",
   "metadata": {
    "tags": []
   },
   "outputs": [
    {
     "ename": "NameError",
     "evalue": "name 'ltc_model' is not defined",
     "output_type": "error",
     "traceback": [
      "\u001b[1;31m---------------------------------------------------------------------------\u001b[0m",
      "\u001b[1;31mNameError\u001b[0m                                 Traceback (most recent call last)",
      "Cell \u001b[1;32mIn[19], line 1\u001b[0m\n\u001b[1;32m----> 1\u001b[0m \u001b[43mltc_model\u001b[49m\u001b[38;5;241m.\u001b[39mrnn_cell\u001b[38;5;241m.\u001b[39m_params\n",
      "\u001b[1;31mNameError\u001b[0m: name 'ltc_model' is not defined"
     ]
    }
   ],
   "source": [
    "ltc_model.rnn_cell._params"
   ]
  },
  {
   "cell_type": "code",
   "execution_count": 20,
   "id": "7b6ad172-3c6e-4448-91dc-f55ebf2187c8",
   "metadata": {
    "tags": []
   },
   "outputs": [
    {
     "ename": "FileNotFoundError",
     "evalue": "[Errno 2] No such file or directory: 'C:/Users/VID/Desktop/GitHub/ncps-slaf/slaf-project/slaf-project/checkpoints/epoch=0-step=311-v14.ckpt'",
     "output_type": "error",
     "traceback": [
      "\u001b[1;31m---------------------------------------------------------------------------\u001b[0m",
      "\u001b[1;31mFileNotFoundError\u001b[0m                         Traceback (most recent call last)",
      "Cell \u001b[1;32mIn[20], line 1\u001b[0m\n\u001b[1;32m----> 1\u001b[0m model \u001b[38;5;241m=\u001b[39m \u001b[43mSequenceLearner\u001b[49m\u001b[38;5;241;43m.\u001b[39;49m\u001b[43mload_from_checkpoint\u001b[49m\u001b[43m(\u001b[49m\u001b[38;5;124;43m\"\u001b[39;49m\u001b[38;5;124;43m./slaf-project/checkpoints/epoch=0-step=311-v14.ckpt\u001b[39;49m\u001b[38;5;124;43m\"\u001b[39;49m\u001b[43m)\u001b[49m\n\u001b[0;32m      2\u001b[0m model\u001b[38;5;241m.\u001b[39mmodel\u001b[38;5;241m.\u001b[39mto(\u001b[38;5;124m\"\u001b[39m\u001b[38;5;124mcuda\u001b[39m\u001b[38;5;124m\"\u001b[39m)\n\u001b[0;32m      3\u001b[0m model\u001b[38;5;241m.\u001b[39mmodel\u001b[38;5;241m.\u001b[39meval()\n",
      "File \u001b[1;32m~\\anaconda3\\envs\\lnn_slaf2\\lib\\site-packages\\pytorch_lightning\\core\\saving.py:134\u001b[0m, in \u001b[0;36mModelIO.load_from_checkpoint\u001b[1;34m(cls, checkpoint_path, map_location, hparams_file, strict, **kwargs)\u001b[0m\n\u001b[0;32m    132\u001b[0m         checkpoint \u001b[38;5;241m=\u001b[39m pl_load(checkpoint_path, map_location\u001b[38;5;241m=\u001b[39mmap_location)\n\u001b[0;32m    133\u001b[0m     \u001b[38;5;28;01melse\u001b[39;00m:\n\u001b[1;32m--> 134\u001b[0m         checkpoint \u001b[38;5;241m=\u001b[39m \u001b[43mpl_load\u001b[49m\u001b[43m(\u001b[49m\u001b[43mcheckpoint_path\u001b[49m\u001b[43m,\u001b[49m\u001b[43m \u001b[49m\u001b[43mmap_location\u001b[49m\u001b[38;5;241;43m=\u001b[39;49m\u001b[38;5;28;43;01mlambda\u001b[39;49;00m\u001b[43m \u001b[49m\u001b[43mstorage\u001b[49m\u001b[43m,\u001b[49m\u001b[43m \u001b[49m\u001b[43mloc\u001b[49m\u001b[43m:\u001b[49m\u001b[43m \u001b[49m\u001b[43mstorage\u001b[49m\u001b[43m)\u001b[49m\n\u001b[0;32m    136\u001b[0m \u001b[38;5;28;01mif\u001b[39;00m hparams_file \u001b[38;5;129;01mis\u001b[39;00m \u001b[38;5;129;01mnot\u001b[39;00m \u001b[38;5;28;01mNone\u001b[39;00m:\n\u001b[0;32m    137\u001b[0m     extension \u001b[38;5;241m=\u001b[39m hparams_file\u001b[38;5;241m.\u001b[39msplit(\u001b[38;5;124m\"\u001b[39m\u001b[38;5;124m.\u001b[39m\u001b[38;5;124m\"\u001b[39m)[\u001b[38;5;241m-\u001b[39m\u001b[38;5;241m1\u001b[39m]\n",
      "File \u001b[1;32m~\\anaconda3\\envs\\lnn_slaf2\\lib\\site-packages\\pytorch_lightning\\utilities\\cloud_io.py:37\u001b[0m, in \u001b[0;36mload\u001b[1;34m(path_or_url, map_location)\u001b[0m\n\u001b[0;32m     35\u001b[0m     \u001b[38;5;28;01mreturn\u001b[39;00m torch\u001b[38;5;241m.\u001b[39mhub\u001b[38;5;241m.\u001b[39mload_state_dict_from_url(\u001b[38;5;28mstr\u001b[39m(path_or_url), map_location\u001b[38;5;241m=\u001b[39mmap_location)\n\u001b[0;32m     36\u001b[0m fs \u001b[38;5;241m=\u001b[39m get_filesystem(path_or_url)\n\u001b[1;32m---> 37\u001b[0m \u001b[38;5;28;01mwith\u001b[39;00m \u001b[43mfs\u001b[49m\u001b[38;5;241;43m.\u001b[39;49m\u001b[43mopen\u001b[49m\u001b[43m(\u001b[49m\u001b[43mpath_or_url\u001b[49m\u001b[43m,\u001b[49m\u001b[43m \u001b[49m\u001b[38;5;124;43m\"\u001b[39;49m\u001b[38;5;124;43mrb\u001b[39;49m\u001b[38;5;124;43m\"\u001b[39;49m\u001b[43m)\u001b[49m \u001b[38;5;28;01mas\u001b[39;00m f:\n\u001b[0;32m     38\u001b[0m     \u001b[38;5;28;01mreturn\u001b[39;00m torch\u001b[38;5;241m.\u001b[39mload(f, map_location\u001b[38;5;241m=\u001b[39mmap_location)\n",
      "File \u001b[1;32m~\\anaconda3\\envs\\lnn_slaf2\\lib\\site-packages\\fsspec\\spec.py:1303\u001b[0m, in \u001b[0;36mAbstractFileSystem.open\u001b[1;34m(self, path, mode, block_size, cache_options, compression, **kwargs)\u001b[0m\n\u001b[0;32m   1301\u001b[0m \u001b[38;5;28;01melse\u001b[39;00m:\n\u001b[0;32m   1302\u001b[0m     ac \u001b[38;5;241m=\u001b[39m kwargs\u001b[38;5;241m.\u001b[39mpop(\u001b[38;5;124m\"\u001b[39m\u001b[38;5;124mautocommit\u001b[39m\u001b[38;5;124m\"\u001b[39m, \u001b[38;5;129;01mnot\u001b[39;00m \u001b[38;5;28mself\u001b[39m\u001b[38;5;241m.\u001b[39m_intrans)\n\u001b[1;32m-> 1303\u001b[0m     f \u001b[38;5;241m=\u001b[39m \u001b[38;5;28mself\u001b[39m\u001b[38;5;241m.\u001b[39m_open(\n\u001b[0;32m   1304\u001b[0m         path,\n\u001b[0;32m   1305\u001b[0m         mode\u001b[38;5;241m=\u001b[39mmode,\n\u001b[0;32m   1306\u001b[0m         block_size\u001b[38;5;241m=\u001b[39mblock_size,\n\u001b[0;32m   1307\u001b[0m         autocommit\u001b[38;5;241m=\u001b[39mac,\n\u001b[0;32m   1308\u001b[0m         cache_options\u001b[38;5;241m=\u001b[39mcache_options,\n\u001b[0;32m   1309\u001b[0m         \u001b[38;5;241m*\u001b[39m\u001b[38;5;241m*\u001b[39mkwargs,\n\u001b[0;32m   1310\u001b[0m     )\n\u001b[0;32m   1311\u001b[0m     \u001b[38;5;28;01mif\u001b[39;00m compression \u001b[38;5;129;01mis\u001b[39;00m \u001b[38;5;129;01mnot\u001b[39;00m \u001b[38;5;28;01mNone\u001b[39;00m:\n\u001b[0;32m   1312\u001b[0m         \u001b[38;5;28;01mfrom\u001b[39;00m \u001b[38;5;21;01mfsspec\u001b[39;00m\u001b[38;5;21;01m.\u001b[39;00m\u001b[38;5;21;01mcompression\u001b[39;00m \u001b[38;5;28;01mimport\u001b[39;00m compr\n",
      "File \u001b[1;32m~\\anaconda3\\envs\\lnn_slaf2\\lib\\site-packages\\fsspec\\implementations\\local.py:191\u001b[0m, in \u001b[0;36mLocalFileSystem._open\u001b[1;34m(self, path, mode, block_size, **kwargs)\u001b[0m\n\u001b[0;32m    189\u001b[0m \u001b[38;5;28;01mif\u001b[39;00m \u001b[38;5;28mself\u001b[39m\u001b[38;5;241m.\u001b[39mauto_mkdir \u001b[38;5;129;01mand\u001b[39;00m \u001b[38;5;124m\"\u001b[39m\u001b[38;5;124mw\u001b[39m\u001b[38;5;124m\"\u001b[39m \u001b[38;5;129;01min\u001b[39;00m mode:\n\u001b[0;32m    190\u001b[0m     \u001b[38;5;28mself\u001b[39m\u001b[38;5;241m.\u001b[39mmakedirs(\u001b[38;5;28mself\u001b[39m\u001b[38;5;241m.\u001b[39m_parent(path), exist_ok\u001b[38;5;241m=\u001b[39m\u001b[38;5;28;01mTrue\u001b[39;00m)\n\u001b[1;32m--> 191\u001b[0m \u001b[38;5;28;01mreturn\u001b[39;00m LocalFileOpener(path, mode, fs\u001b[38;5;241m=\u001b[39m\u001b[38;5;28mself\u001b[39m, \u001b[38;5;241m*\u001b[39m\u001b[38;5;241m*\u001b[39mkwargs)\n",
      "File \u001b[1;32m~\\anaconda3\\envs\\lnn_slaf2\\lib\\site-packages\\fsspec\\implementations\\local.py:355\u001b[0m, in \u001b[0;36mLocalFileOpener.__init__\u001b[1;34m(self, path, mode, autocommit, fs, compression, **kwargs)\u001b[0m\n\u001b[0;32m    353\u001b[0m \u001b[38;5;28mself\u001b[39m\u001b[38;5;241m.\u001b[39mcompression \u001b[38;5;241m=\u001b[39m get_compression(path, compression)\n\u001b[0;32m    354\u001b[0m \u001b[38;5;28mself\u001b[39m\u001b[38;5;241m.\u001b[39mblocksize \u001b[38;5;241m=\u001b[39m io\u001b[38;5;241m.\u001b[39mDEFAULT_BUFFER_SIZE\n\u001b[1;32m--> 355\u001b[0m \u001b[38;5;28;43mself\u001b[39;49m\u001b[38;5;241;43m.\u001b[39;49m\u001b[43m_open\u001b[49m\u001b[43m(\u001b[49m\u001b[43m)\u001b[49m\n",
      "File \u001b[1;32m~\\anaconda3\\envs\\lnn_slaf2\\lib\\site-packages\\fsspec\\implementations\\local.py:360\u001b[0m, in \u001b[0;36mLocalFileOpener._open\u001b[1;34m(self)\u001b[0m\n\u001b[0;32m    358\u001b[0m \u001b[38;5;28;01mif\u001b[39;00m \u001b[38;5;28mself\u001b[39m\u001b[38;5;241m.\u001b[39mf \u001b[38;5;129;01mis\u001b[39;00m \u001b[38;5;28;01mNone\u001b[39;00m \u001b[38;5;129;01mor\u001b[39;00m \u001b[38;5;28mself\u001b[39m\u001b[38;5;241m.\u001b[39mf\u001b[38;5;241m.\u001b[39mclosed:\n\u001b[0;32m    359\u001b[0m     \u001b[38;5;28;01mif\u001b[39;00m \u001b[38;5;28mself\u001b[39m\u001b[38;5;241m.\u001b[39mautocommit \u001b[38;5;129;01mor\u001b[39;00m \u001b[38;5;124m\"\u001b[39m\u001b[38;5;124mw\u001b[39m\u001b[38;5;124m\"\u001b[39m \u001b[38;5;129;01mnot\u001b[39;00m \u001b[38;5;129;01min\u001b[39;00m \u001b[38;5;28mself\u001b[39m\u001b[38;5;241m.\u001b[39mmode:\n\u001b[1;32m--> 360\u001b[0m         \u001b[38;5;28mself\u001b[39m\u001b[38;5;241m.\u001b[39mf \u001b[38;5;241m=\u001b[39m \u001b[38;5;28;43mopen\u001b[39;49m\u001b[43m(\u001b[49m\u001b[38;5;28;43mself\u001b[39;49m\u001b[38;5;241;43m.\u001b[39;49m\u001b[43mpath\u001b[49m\u001b[43m,\u001b[49m\u001b[43m \u001b[49m\u001b[43mmode\u001b[49m\u001b[38;5;241;43m=\u001b[39;49m\u001b[38;5;28;43mself\u001b[39;49m\u001b[38;5;241;43m.\u001b[39;49m\u001b[43mmode\u001b[49m\u001b[43m)\u001b[49m\n\u001b[0;32m    361\u001b[0m         \u001b[38;5;28;01mif\u001b[39;00m \u001b[38;5;28mself\u001b[39m\u001b[38;5;241m.\u001b[39mcompression:\n\u001b[0;32m    362\u001b[0m             compress \u001b[38;5;241m=\u001b[39m compr[\u001b[38;5;28mself\u001b[39m\u001b[38;5;241m.\u001b[39mcompression]\n",
      "\u001b[1;31mFileNotFoundError\u001b[0m: [Errno 2] No such file or directory: 'C:/Users/VID/Desktop/GitHub/ncps-slaf/slaf-project/slaf-project/checkpoints/epoch=0-step=311-v14.ckpt'"
     ]
    }
   ],
   "source": [
    "model = SequenceLearner.load_from_checkpoint(\"log/default/version_5/epoch=0-step=311-v14.ckpt\")\n",
    "model.model.to(\"cuda\")\n",
    "model.model.eval()"
   ]
  },
  {
   "cell_type": "code",
   "execution_count": 33,
   "id": "d11859e0-5b7f-4f08-a2f3-da31a8234f4b",
   "metadata": {
    "tags": []
   },
   "outputs": [
    {
     "data": {
      "text/plain": [
       "tensor([[[0.2900, 0.2262, 0.2055,  ..., 1.0000, 0.0000, 0.0000],\n",
       "         [0.2594, 0.1932, 0.1697,  ..., 0.0000, 0.0000, 0.0000],\n",
       "         [0.2398, 0.1805, 0.1433,  ..., 0.0000, 0.0000, 0.0000],\n",
       "         ...,\n",
       "         [0.5665, 0.3527, 0.4628,  ..., 0.0000, 0.0000, 0.0000],\n",
       "         [0.5246, 0.3314, 0.4441,  ..., 0.0000, 0.0000, 0.0000],\n",
       "         [0.4662, 0.3093, 0.3949,  ..., 0.0000, 0.0000, 0.0000]]],\n",
       "       device='cuda:0')"
      ]
     },
     "execution_count": 33,
     "metadata": {},
     "output_type": "execute_result"
    }
   ],
   "source": [
    "x_features"
   ]
  },
  {
   "cell_type": "code",
   "execution_count": 34,
   "id": "048734bf-841c-4523-ab40-45b66f9dd3ea",
   "metadata": {
    "tags": []
   },
   "outputs": [],
   "source": [
    "# predict with the model\n",
    "y_hat = model.model(x_features)"
   ]
  },
  {
   "cell_type": "code",
   "execution_count": 35,
   "id": "78723725-6dad-48e6-988b-6d1afa380add",
   "metadata": {
    "tags": []
   },
   "outputs": [
    {
     "data": {
      "text/plain": [
       "(tensor([[[0.2006],\n",
       "          [0.3179],\n",
       "          [0.3485],\n",
       "          [0.3368],\n",
       "          [0.3201],\n",
       "          [0.3162],\n",
       "          [0.3363],\n",
       "          [0.3957],\n",
       "          [0.4668],\n",
       "          [0.5157],\n",
       "          [0.5344],\n",
       "          [0.5338],\n",
       "          [0.5278],\n",
       "          [0.5155],\n",
       "          [0.4922],\n",
       "          [0.4679],\n",
       "          [0.4582],\n",
       "          [0.4750],\n",
       "          [0.5078],\n",
       "          [0.5271],\n",
       "          [0.5344],\n",
       "          [0.5348],\n",
       "          [0.5264],\n",
       "          [0.5041],\n",
       "          [0.4795],\n",
       "          [0.4660],\n",
       "          [0.4463],\n",
       "          [0.4388],\n",
       "          [0.4573],\n",
       "          [0.5038],\n",
       "          [0.5604],\n",
       "          [0.6024],\n",
       "          [0.6313],\n",
       "          [0.6532],\n",
       "          [0.6687],\n",
       "          [0.6774],\n",
       "          [0.6802],\n",
       "          [0.6794],\n",
       "          [0.6774],\n",
       "          [0.6756],\n",
       "          [0.6761],\n",
       "          [0.6817],\n",
       "          [0.6905],\n",
       "          [0.6969],\n",
       "          [0.6987],\n",
       "          [0.6963],\n",
       "          [0.6893],\n",
       "          [0.6766],\n",
       "          [0.6595],\n",
       "          [0.6444],\n",
       "          [0.6324],\n",
       "          [0.6252],\n",
       "          [0.6259],\n",
       "          [0.6386],\n",
       "          [0.6607],\n",
       "          [0.6822],\n",
       "          [0.6991],\n",
       "          [0.7100],\n",
       "          [0.7140],\n",
       "          [0.7151],\n",
       "          [0.7136],\n",
       "          [0.7089],\n",
       "          [0.7030],\n",
       "          [0.6954],\n",
       "          [0.6904],\n",
       "          [0.6958],\n",
       "          [0.7104],\n",
       "          [0.7247],\n",
       "          [0.7298],\n",
       "          [0.7257],\n",
       "          [0.7145],\n",
       "          [0.6953],\n",
       "          [0.6703],\n",
       "          [0.6454],\n",
       "          [0.6261],\n",
       "          [0.6152],\n",
       "          [0.6128],\n",
       "          [0.6224],\n",
       "          [0.6467],\n",
       "          [0.6747],\n",
       "          [0.6966],\n",
       "          [0.7086],\n",
       "          [0.7097],\n",
       "          [0.7077],\n",
       "          [0.7053],\n",
       "          [0.7013],\n",
       "          [0.6957],\n",
       "          [0.6898],\n",
       "          [0.6862],\n",
       "          [0.6939],\n",
       "          [0.7111],\n",
       "          [0.7253],\n",
       "          [0.7286],\n",
       "          [0.7233],\n",
       "          [0.7119],\n",
       "          [0.6884],\n",
       "          [0.6586],\n",
       "          [0.6282],\n",
       "          [0.6009],\n",
       "          [0.5812],\n",
       "          [0.5764],\n",
       "          [0.6035],\n",
       "          [0.6461],\n",
       "          [0.6794],\n",
       "          [0.7035],\n",
       "          [0.7193],\n",
       "          [0.7267],\n",
       "          [0.7318],\n",
       "          [0.7354],\n",
       "          [0.7373],\n",
       "          [0.7369],\n",
       "          [0.7345],\n",
       "          [0.7311],\n",
       "          [0.7310],\n",
       "          [0.7392],\n",
       "          [0.7492],\n",
       "          [0.7517],\n",
       "          [0.7454],\n",
       "          [0.7329],\n",
       "          [0.7152],\n",
       "          [0.6886],\n",
       "          [0.6495],\n",
       "          [0.6183],\n",
       "          [0.5997],\n",
       "          [0.5908],\n",
       "          [0.6011],\n",
       "          [0.6290],\n",
       "          [0.6592],\n",
       "          [0.6835],\n",
       "          [0.6977],\n",
       "          [0.7028],\n",
       "          [0.7047],\n",
       "          [0.7041],\n",
       "          [0.7009],\n",
       "          [0.6968],\n",
       "          [0.6924],\n",
       "          [0.6887],\n",
       "          [0.6941],\n",
       "          [0.7109],\n",
       "          [0.7290],\n",
       "          [0.7391],\n",
       "          [0.7391],\n",
       "          [0.7311],\n",
       "          [0.7096],\n",
       "          [0.6551],\n",
       "          [0.5408],\n",
       "          [0.4336],\n",
       "          [0.3592],\n",
       "          [0.3159],\n",
       "          [0.3021],\n",
       "          [0.3298],\n",
       "          [0.4118],\n",
       "          [0.5334],\n",
       "          [0.6221],\n",
       "          [0.6659],\n",
       "          [0.6828],\n",
       "          [0.6839],\n",
       "          [0.6743],\n",
       "          [0.6619],\n",
       "          [0.6527],\n",
       "          [0.6499],\n",
       "          [0.6648],\n",
       "          [0.6904],\n",
       "          [0.7043],\n",
       "          [0.6988],\n",
       "          [0.6811],\n",
       "          [0.6557],\n",
       "          [0.6181]]], device='cuda:0', grad_fn=<StackBackward0>),\n",
       " tensor([[ 0.5242,  0.3446, -0.0921, -0.6741, -0.0457, -0.3693, -0.0877, -0.0226,\n",
       "           0.6525,  0.4039, -0.2575,  0.5104, -0.6982, -0.0978, -0.1556, -0.0951]],\n",
       "        device='cuda:0', grad_fn=<DivBackward0>))"
      ]
     },
     "execution_count": 35,
     "metadata": {},
     "output_type": "execute_result"
    }
   ],
   "source": [
    "y_hat"
   ]
  }
 ],
 "metadata": {
  "kernelspec": {
   "display_name": "Python 3 (ipykernel)",
   "language": "python",
   "name": "python3"
  },
  "language_info": {
   "codemirror_mode": {
    "name": "ipython",
    "version": 3
   },
   "file_extension": ".py",
   "mimetype": "text/x-python",
   "name": "python",
   "nbconvert_exporter": "python",
   "pygments_lexer": "ipython3",
   "version": "3.10.14"
  }
 },
 "nbformat": 4,
 "nbformat_minor": 5
}
