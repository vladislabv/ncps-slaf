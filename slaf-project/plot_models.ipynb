{
 "cells": [
  {
   "cell_type": "code",
   "execution_count": 121,
   "id": "9fbcf8fa-bb8a-411f-a75a-67ea6ccbfff2",
   "metadata": {},
   "outputs": [],
   "source": [
    "import os\n",
    "import pandas as pd\n",
    "import numpy as np\n",
    "\n",
    "\n",
    "import torch\n",
    "import torch.nn as nn\n",
    "import torch.optim as optim\n",
    "import torch.utils.data as data_utils\n",
    "import pytorch_lightning as pl\n",
    "\n",
    "import matplotlib.pyplot as plt\n",
    "import seaborn as sns\n",
    "\n",
    "from run import read_data\n",
    "from config import Config\n",
    "import src.utils as utils\n",
    "import pandas as pd\n",
    "from torch import Tensor\n",
    "import pytorch_lightning as pl\n",
    "import torch.utils.data as data_utils\n",
    "from sklearn.preprocessing import MinMaxScaler\n",
    "from src.model import SequenceLearner\n",
    "from torchmetrics.functional.regression import mean_absolute_percentage_error\n",
    "\n",
    "\n",
    "from ncps.torch import LTC"
   ]
  },
  {
   "cell_type": "code",
   "execution_count": 73,
   "id": "50ff8d52-8e2e-40a3-b11f-cd7af657a985",
   "metadata": {
    "ExecuteTime": {
     "end_time": "2024-09-03T17:16:56.714589Z",
     "start_time": "2024-09-03T17:16:56.710630Z"
    }
   },
   "outputs": [],
   "source": [
    "model_paths = [\"checkpoints/\" + model for model in os.listdir(\"checkpoints\")]"
   ]
  },
  {
   "cell_type": "code",
   "execution_count": 198,
   "id": "0e3f70fa-dab6-43b2-9834-74298ee43a5f",
   "metadata": {},
   "outputs": [
    {
     "name": "stderr",
     "output_type": "stream",
     "text": [
      "C:\\Users\\VID\\AppData\\Local\\Temp/ipykernel_1571016/3672658337.py:3: DtypeWarning: Columns (15,16,17,18,19) have mixed types.Specify dtype option on import or set low_memory=False.\n",
      "  data_raw = read_data(Config.PATH)\n",
      "C:\\Users\\VID\\anaconda3\\lib\\site-packages\\torch\\utils\\data\\dataloader.py:557: UserWarning: This DataLoader will create 128 worker processes in total. Our suggested max number of worker in current system is 20 (`cpuset` is not taken into account), which is smaller than what this DataLoader is going to create. Please be aware that excessive worker creation might get DataLoader running slow or even freeze, lower the worker number to avoid potential slowness/freeze if necessary.\n",
      "  warnings.warn(_create_warning_msg(\n",
      "Lightning automatically upgraded your loaded checkpoint from v1.5.0 to v2.4.0. To apply the upgrade to your files permanently, run `python -m pytorch_lightning.utilities.upgrade_checkpoint C:\\Users\\VID\\Desktop\\GitHub\\ncps-slaf\\slaf-project\\checkpoints\\model-lnn_units=16-lr=0.0001-num_epochs=10-lnn_modified=False-v1.ckpt`\n",
      "C:\\Users\\VID\\anaconda3\\lib\\site-packages\\pytorch_lightning\\utilities\\parsing.py:208: Attribute 'model' is an instance of `nn.Module` and is already saved during checkpointing. It is recommended to ignore them using `self.save_hyperparameters(ignore=['model'])`.\n",
      "Lightning automatically upgraded your loaded checkpoint from v1.5.0 to v2.4.0. To apply the upgrade to your files permanently, run `python -m pytorch_lightning.utilities.upgrade_checkpoint C:\\Users\\VID\\Desktop\\GitHub\\ncps-slaf\\slaf-project\\checkpoints\\model-lnn_units=16-lr=0.0001-num_epochs=10-lnn_modified=False.ckpt`\n",
      "Lightning automatically upgraded your loaded checkpoint from v1.5.0 to v2.4.0. To apply the upgrade to your files permanently, run `python -m pytorch_lightning.utilities.upgrade_checkpoint C:\\Users\\VID\\Desktop\\GitHub\\ncps-slaf\\slaf-project\\checkpoints\\model-lnn_units=16-lr=0.0001-num_epochs=10-lnn_modified=True-v1.ckpt`\n"
     ]
    },
    {
     "name": "stdout",
     "output_type": "stream",
     "text": [
      "[0.21639315 0.1908349  0.18150838 ... 0.35297283 0.304457   0.26096314]\n",
      "[0.16472983 0.42999113 0.56361604 ... 0.69225645 0.6948344  0.69714934]\n",
      "122.39741177918795\n",
      "error\n"
     ]
    },
    {
     "name": "stderr",
     "output_type": "stream",
     "text": [
      "Lightning automatically upgraded your loaded checkpoint from v1.5.0 to v2.4.0. To apply the upgrade to your files permanently, run `python -m pytorch_lightning.utilities.upgrade_checkpoint C:\\Users\\VID\\Desktop\\GitHub\\ncps-slaf\\slaf-project\\checkpoints\\model-lnn_units=16-lr=0.0001-num_epochs=10-lnn_modified=True.ckpt`\n",
      "Lightning automatically upgraded your loaded checkpoint from v1.5.0 to v2.4.0. To apply the upgrade to your files permanently, run `python -m pytorch_lightning.utilities.upgrade_checkpoint C:\\Users\\VID\\Desktop\\GitHub\\ncps-slaf\\slaf-project\\checkpoints\\model-lnn_units=16-lr=0.0001-num_epochs=50-lnn_modified=False.ckpt`\n",
      "Lightning automatically upgraded your loaded checkpoint from v1.5.0 to v2.4.0. To apply the upgrade to your files permanently, run `python -m pytorch_lightning.utilities.upgrade_checkpoint C:\\Users\\VID\\Desktop\\GitHub\\ncps-slaf\\slaf-project\\checkpoints\\model-lnn_units=16-lr=0.0001-num_epochs=50-lnn_modified=True.ckpt`\n",
      "Lightning automatically upgraded your loaded checkpoint from v1.5.0 to v2.4.0. To apply the upgrade to your files permanently, run `python -m pytorch_lightning.utilities.upgrade_checkpoint C:\\Users\\VID\\Desktop\\GitHub\\ncps-slaf\\slaf-project\\checkpoints\\model-lnn_units=16-lr=0.01-num_epochs=10-lnn_modified=False-v1.ckpt`\n"
     ]
    },
    {
     "name": "stdout",
     "output_type": "stream",
     "text": [
      "[0.21639315 0.1908349  0.18150838 ... 0.35297283 0.304457   0.26096314]\n",
      "[ 0.10098321 -0.5654486  -0.5755117  ... -0.30454037 -0.30826896\n",
      " -0.31323394]\n",
      "145.70488997925213\n",
      "error\n",
      "error\n",
      "error\n"
     ]
    },
    {
     "name": "stderr",
     "output_type": "stream",
     "text": [
      "Lightning automatically upgraded your loaded checkpoint from v1.5.0 to v2.4.0. To apply the upgrade to your files permanently, run `python -m pytorch_lightning.utilities.upgrade_checkpoint C:\\Users\\VID\\Desktop\\GitHub\\ncps-slaf\\slaf-project\\checkpoints\\model-lnn_units=16-lr=0.01-num_epochs=10-lnn_modified=False-v2.ckpt`\n"
     ]
    },
    {
     "name": "stdout",
     "output_type": "stream",
     "text": [
      "[0.21639315 0.1908349  0.18150838 ... 0.35297283 0.304457   0.26096314]\n",
      "[0.12909073 0.12389601 0.12223103 ... 0.8759987  0.80614674 0.67036146]\n",
      "145.5358690397059\n"
     ]
    },
    {
     "name": "stderr",
     "output_type": "stream",
     "text": [
      "Lightning automatically upgraded your loaded checkpoint from v1.5.0 to v2.4.0. To apply the upgrade to your files permanently, run `python -m pytorch_lightning.utilities.upgrade_checkpoint C:\\Users\\VID\\Desktop\\GitHub\\ncps-slaf\\slaf-project\\checkpoints\\model-lnn_units=16-lr=0.01-num_epochs=10-lnn_modified=False-v3.ckpt`\n"
     ]
    },
    {
     "name": "stdout",
     "output_type": "stream",
     "text": [
      "[0.21639315 0.1908349  0.18150838 ... 0.35297283 0.304457   0.26096314]\n",
      "[0.10155016 0.34949338 0.50609666 ... 0.7224928  0.7178947  0.67944485]\n",
      "129.43194983644204\n"
     ]
    },
    {
     "name": "stderr",
     "output_type": "stream",
     "text": [
      "Lightning automatically upgraded your loaded checkpoint from v1.5.0 to v2.4.0. To apply the upgrade to your files permanently, run `python -m pytorch_lightning.utilities.upgrade_checkpoint C:\\Users\\VID\\Desktop\\GitHub\\ncps-slaf\\slaf-project\\checkpoints\\model-lnn_units=16-lr=0.01-num_epochs=10-lnn_modified=False-v4.ckpt`\n"
     ]
    },
    {
     "name": "stdout",
     "output_type": "stream",
     "text": [
      "[0.21639315 0.1908349  0.18150838 ... 0.35297283 0.304457   0.26096314]\n",
      "[0.1851418  0.29807553 0.32863036 ... 0.6202587  0.5888476  0.46089697]\n",
      "84.51914878721747\n"
     ]
    },
    {
     "name": "stderr",
     "output_type": "stream",
     "text": [
      "Lightning automatically upgraded your loaded checkpoint from v1.5.0 to v2.4.0. To apply the upgrade to your files permanently, run `python -m pytorch_lightning.utilities.upgrade_checkpoint C:\\Users\\VID\\Desktop\\GitHub\\ncps-slaf\\slaf-project\\checkpoints\\model-lnn_units=16-lr=0.01-num_epochs=10-lnn_modified=False-v5.ckpt`\n"
     ]
    },
    {
     "name": "stdout",
     "output_type": "stream",
     "text": [
      "[0.21639315 0.1908349  0.18150838 ... 0.35297283 0.304457   0.26096314]\n",
      "[0.17260605 0.25855672 0.27854863 ... 0.62177557 0.58471143 0.5224247 ]\n",
      "101.10473884177324\n"
     ]
    },
    {
     "name": "stderr",
     "output_type": "stream",
     "text": [
      "Lightning automatically upgraded your loaded checkpoint from v1.5.0 to v2.4.0. To apply the upgrade to your files permanently, run `python -m pytorch_lightning.utilities.upgrade_checkpoint C:\\Users\\VID\\Desktop\\GitHub\\ncps-slaf\\slaf-project\\checkpoints\\model-lnn_units=16-lr=0.01-num_epochs=10-lnn_modified=False-v6.ckpt`\n"
     ]
    },
    {
     "name": "stdout",
     "output_type": "stream",
     "text": [
      "[0.21639315 0.1908349  0.18150838 ... 0.35297283 0.304457   0.26096314]\n",
      "[0.16256493 0.21965067 0.20442332 ... 0.7483791  0.7052566  0.62015015]\n",
      "121.88950051471095\n"
     ]
    },
    {
     "name": "stderr",
     "output_type": "stream",
     "text": [
      "Lightning automatically upgraded your loaded checkpoint from v1.5.0 to v2.4.0. To apply the upgrade to your files permanently, run `python -m pytorch_lightning.utilities.upgrade_checkpoint C:\\Users\\VID\\Desktop\\GitHub\\ncps-slaf\\slaf-project\\checkpoints\\model-lnn_units=16-lr=0.01-num_epochs=10-lnn_modified=False.ckpt`\n",
      "Lightning automatically upgraded your loaded checkpoint from v1.5.0 to v2.4.0. To apply the upgrade to your files permanently, run `python -m pytorch_lightning.utilities.upgrade_checkpoint C:\\Users\\VID\\Desktop\\GitHub\\ncps-slaf\\slaf-project\\checkpoints\\model-lnn_units=16-lr=0.01-num_epochs=10-lnn_modified=True-v1.ckpt`\n"
     ]
    },
    {
     "name": "stdout",
     "output_type": "stream",
     "text": [
      "[0.21639315 0.1908349  0.18150838 ... 0.35297283 0.304457   0.26096314]\n",
      "[0.1305636  0.33741906 0.3575054  ... 0.78449726 0.74919677 0.67912686]\n",
      "128.94079318554367\n",
      "error\n"
     ]
    },
    {
     "name": "stderr",
     "output_type": "stream",
     "text": [
      "Lightning automatically upgraded your loaded checkpoint from v1.5.0 to v2.4.0. To apply the upgrade to your files permanently, run `python -m pytorch_lightning.utilities.upgrade_checkpoint C:\\Users\\VID\\Desktop\\GitHub\\ncps-slaf\\slaf-project\\checkpoints\\model-lnn_units=16-lr=0.01-num_epochs=10-lnn_modified=True-v2.ckpt`\n"
     ]
    },
    {
     "name": "stdout",
     "output_type": "stream",
     "text": [
      "[0.21639315 0.1908349  0.18150838 ... 0.35297283 0.304457   0.26096314]\n",
      "[0.28078514 0.06345103 0.6126314  ... 0.7437569  0.73754394 0.73047566]\n",
      "151.41476037736274\n"
     ]
    },
    {
     "name": "stderr",
     "output_type": "stream",
     "text": [
      "Lightning automatically upgraded your loaded checkpoint from v1.5.0 to v2.4.0. To apply the upgrade to your files permanently, run `python -m pytorch_lightning.utilities.upgrade_checkpoint C:\\Users\\VID\\Desktop\\GitHub\\ncps-slaf\\slaf-project\\checkpoints\\model-lnn_units=16-lr=0.01-num_epochs=10-lnn_modified=True-v3.ckpt`\n"
     ]
    },
    {
     "name": "stdout",
     "output_type": "stream",
     "text": [
      "[0.21639315 0.1908349  0.18150838 ... 0.35297283 0.304457   0.26096314]\n",
      "[ 0.13975811 -0.23248145 -0.3135145  ...         nan         nan\n",
      "         nan]\n",
      "217.08387210913153\n"
     ]
    },
    {
     "name": "stderr",
     "output_type": "stream",
     "text": [
      "Lightning automatically upgraded your loaded checkpoint from v1.5.0 to v2.4.0. To apply the upgrade to your files permanently, run `python -m pytorch_lightning.utilities.upgrade_checkpoint C:\\Users\\VID\\Desktop\\GitHub\\ncps-slaf\\slaf-project\\checkpoints\\model-lnn_units=16-lr=0.01-num_epochs=10-lnn_modified=True-v4.ckpt`\n"
     ]
    },
    {
     "name": "stdout",
     "output_type": "stream",
     "text": [
      "[0.21639315 0.1908349  0.18150838 ... 0.35297283 0.304457   0.26096314]\n",
      "[0.13859901 0.78067863 0.7233122  ... 0.21806511 0.3382524  0.51045984]\n",
      "109.13708781981425\n"
     ]
    },
    {
     "name": "stderr",
     "output_type": "stream",
     "text": [
      "Lightning automatically upgraded your loaded checkpoint from v1.5.0 to v2.4.0. To apply the upgrade to your files permanently, run `python -m pytorch_lightning.utilities.upgrade_checkpoint C:\\Users\\VID\\Desktop\\GitHub\\ncps-slaf\\slaf-project\\checkpoints\\model-lnn_units=16-lr=0.01-num_epochs=10-lnn_modified=True.ckpt`\n",
      "Lightning automatically upgraded your loaded checkpoint from v1.5.0 to v2.4.0. To apply the upgrade to your files permanently, run `python -m pytorch_lightning.utilities.upgrade_checkpoint C:\\Users\\VID\\Desktop\\GitHub\\ncps-slaf\\slaf-project\\checkpoints\\model-lnn_units=16-lr=0.01-num_epochs=100-lnn_modified=False.ckpt`\n",
      "Lightning automatically upgraded your loaded checkpoint from v1.5.0 to v2.4.0. To apply the upgrade to your files permanently, run `python -m pytorch_lightning.utilities.upgrade_checkpoint C:\\Users\\VID\\Desktop\\GitHub\\ncps-slaf\\slaf-project\\checkpoints\\model-lnn_units=16-lr=0.01-num_epochs=100-lnn_modified=True.ckpt`\n",
      "Lightning automatically upgraded your loaded checkpoint from v1.5.0 to v2.4.0. To apply the upgrade to your files permanently, run `python -m pytorch_lightning.utilities.upgrade_checkpoint C:\\Users\\VID\\Desktop\\GitHub\\ncps-slaf\\slaf-project\\checkpoints\\model-lnn_units=16-lr=0.01-num_epochs=50-lnn_modified=False.ckpt`\n",
      "Lightning automatically upgraded your loaded checkpoint from v1.5.0 to v2.4.0. To apply the upgrade to your files permanently, run `python -m pytorch_lightning.utilities.upgrade_checkpoint C:\\Users\\VID\\Desktop\\GitHub\\ncps-slaf\\slaf-project\\checkpoints\\model-lnn_units=16-lr=0.01-num_epochs=50-lnn_modified=True.ckpt`\n",
      "Lightning automatically upgraded your loaded checkpoint from v1.5.0 to v2.4.0. To apply the upgrade to your files permanently, run `python -m pytorch_lightning.utilities.upgrade_checkpoint C:\\Users\\VID\\Desktop\\GitHub\\ncps-slaf\\slaf-project\\checkpoints\\model-lnn_units=32-lr=0.0001-num_epochs=10-lnn_modified=False.ckpt`\n"
     ]
    },
    {
     "name": "stdout",
     "output_type": "stream",
     "text": [
      "[0.21639315 0.1908349  0.18150838 ... 0.35297283 0.304457   0.26096314]\n",
      "[ 0.14869565 -0.18525714 -0.23647314 ...  0.72715944  0.81301415\n",
      "  0.74778837]\n",
      "188.1545731089497\n",
      "error\n",
      "error\n",
      "error\n",
      "error\n",
      "error\n"
     ]
    },
    {
     "name": "stderr",
     "output_type": "stream",
     "text": [
      "Lightning automatically upgraded your loaded checkpoint from v1.5.0 to v2.4.0. To apply the upgrade to your files permanently, run `python -m pytorch_lightning.utilities.upgrade_checkpoint C:\\Users\\VID\\Desktop\\GitHub\\ncps-slaf\\slaf-project\\checkpoints\\model-lnn_units=32-lr=0.0001-num_epochs=10-lnn_modified=True.ckpt`\n"
     ]
    },
    {
     "name": "stdout",
     "output_type": "stream",
     "text": [
      "[0.21639315 0.1908349  0.18150838 ... 0.35297283 0.304457   0.26096314]\n",
      "[0.1259868  0.34838903 0.39573523 ... 0.67753977 0.6708783  0.6584887 ]\n",
      "91.66540004535722\n"
     ]
    },
    {
     "name": "stderr",
     "output_type": "stream",
     "text": [
      "Lightning automatically upgraded your loaded checkpoint from v1.5.0 to v2.4.0. To apply the upgrade to your files permanently, run `python -m pytorch_lightning.utilities.upgrade_checkpoint C:\\Users\\VID\\Desktop\\GitHub\\ncps-slaf\\slaf-project\\checkpoints\\model-lnn_units=32-lr=0.01-num_epochs=10-lnn_modified=False.ckpt`\n"
     ]
    },
    {
     "name": "stdout",
     "output_type": "stream",
     "text": [
      "[0.21639315 0.1908349  0.18150838 ... 0.35297283 0.304457   0.26096314]\n",
      "[ 0.18157111 -0.821195   -0.924906   ... -0.8612077  -0.86122555\n",
      " -0.86150354]\n",
      "245.98610927755965\n"
     ]
    },
    {
     "name": "stderr",
     "output_type": "stream",
     "text": [
      "Lightning automatically upgraded your loaded checkpoint from v1.5.0 to v2.4.0. To apply the upgrade to your files permanently, run `python -m pytorch_lightning.utilities.upgrade_checkpoint C:\\Users\\VID\\Desktop\\GitHub\\ncps-slaf\\slaf-project\\checkpoints\\model-lnn_units=32-lr=0.01-num_epochs=10-lnn_modified=True.ckpt`\n"
     ]
    },
    {
     "name": "stdout",
     "output_type": "stream",
     "text": [
      "[0.21639315 0.1908349  0.18150838 ... 0.35297283 0.304457   0.26096314]\n",
      "[0.11163775 0.20446193 0.21131328 ... 0.61734796 0.57650036 0.50091356]\n",
      "95.31753612390841\n"
     ]
    },
    {
     "name": "stderr",
     "output_type": "stream",
     "text": [
      "Lightning automatically upgraded your loaded checkpoint from v1.5.0 to v2.4.0. To apply the upgrade to your files permanently, run `python -m pytorch_lightning.utilities.upgrade_checkpoint C:\\Users\\VID\\Desktop\\GitHub\\ncps-slaf\\slaf-project\\checkpoints\\model-lnn_units=8-lr=0.0001-num_epochs=10-lnn_modified=False.ckpt`\n"
     ]
    },
    {
     "name": "stdout",
     "output_type": "stream",
     "text": [
      "[0.21639315 0.1908349  0.18150838 ... 0.35297283 0.304457   0.26096314]\n",
      "[ 0.135263    0.09356279 -0.42996067 ... -0.26472718 -0.29006898\n",
      " -0.30335057]\n",
      "229.98383952679418\n"
     ]
    },
    {
     "name": "stderr",
     "output_type": "stream",
     "text": [
      "Lightning automatically upgraded your loaded checkpoint from v1.5.0 to v2.4.0. To apply the upgrade to your files permanently, run `python -m pytorch_lightning.utilities.upgrade_checkpoint C:\\Users\\VID\\Desktop\\GitHub\\ncps-slaf\\slaf-project\\checkpoints\\model-lnn_units=8-lr=0.0001-num_epochs=10-lnn_modified=True.ckpt`\n"
     ]
    },
    {
     "name": "stdout",
     "output_type": "stream",
     "text": [
      "[0.21639315 0.1908349  0.18150838 ... 0.35297283 0.304457   0.26096314]\n",
      "[0.20907421 0.2915096  0.32675546 ... 0.41779208 0.41474444 0.40594304]\n",
      "55.821379748355106\n"
     ]
    },
    {
     "name": "stderr",
     "output_type": "stream",
     "text": [
      "Lightning automatically upgraded your loaded checkpoint from v1.5.0 to v2.4.0. To apply the upgrade to your files permanently, run `python -m pytorch_lightning.utilities.upgrade_checkpoint C:\\Users\\VID\\Desktop\\GitHub\\ncps-slaf\\slaf-project\\checkpoints\\model-lnn_units=8-lr=0.01-num_epochs=10-lnn_modified=False.ckpt`\n"
     ]
    },
    {
     "name": "stdout",
     "output_type": "stream",
     "text": [
      "[0.21639315 0.1908349  0.18150838 ... 0.35297283 0.304457   0.26096314]\n",
      "[0.1693654  0.14438246 0.06202226 ... 0.21946171 0.21954283 0.21960047]\n",
      "69.38556050742926\n"
     ]
    },
    {
     "name": "stderr",
     "output_type": "stream",
     "text": [
      "Lightning automatically upgraded your loaded checkpoint from v1.5.0 to v2.4.0. To apply the upgrade to your files permanently, run `python -m pytorch_lightning.utilities.upgrade_checkpoint C:\\Users\\VID\\Desktop\\GitHub\\ncps-slaf\\slaf-project\\checkpoints\\model-lnn_units=8-lr=0.01-num_epochs=10-lnn_modified=True.ckpt`\n"
     ]
    },
    {
     "name": "stdout",
     "output_type": "stream",
     "text": [
      "[0.21639315 0.1908349  0.18150838 ... 0.35297283 0.304457   0.26096314]\n",
      "[0.14299959 0.3473854  0.44470552 ... 0.8132079  0.7998028  0.76890504]\n",
      "157.43987366477091\n",
      "[0.21639315 0.1908349  0.18150838 ... 0.35297283 0.304457   0.26096314]\n",
      "[0.1446305  0.21136034 0.42157516 ...        nan        nan        nan]\n",
      "236.21780160365557\n"
     ]
    }
   ],
   "source": [
    "device = \"cpu\" \n",
    "# data related section\n",
    "data_raw = read_data(Config.PATH)\n",
    "data_raw = utils.prepare_data(data_raw, station=Config.STATION, features=Config.FEATURES_LIST)\n",
    "\n",
    "test_data = data_raw.copy()\n",
    "test_data = utils.make_features(test_data, features=Config.FEATURES_LIST)\n",
    "\n",
    "x_features, y_features = utils.generate_test_data(\n",
    "    test_data,\n",
    "    Config.FILTER_DT_TILL,\n",
    "    features=Config.FEATURES_LIST,\n",
    "    push_y_by = 60,\n",
    "    unit = 'd',\n",
    ")\n",
    "\n",
    "x_test_scaler = MinMaxScaler()\n",
    "x_test_scaler, x_features = utils.normalize_data(\n",
    "    x_test_scaler,\n",
    "    x_features)\n",
    "\n",
    "y_test_scaler = MinMaxScaler()\n",
    "y_test_scaler, y_features = utils.normalize_data(\n",
    "    y_test_scaler,\n",
    "    y_features)\n",
    "\n",
    "out_features = y_features.shape[-1]\n",
    "in_features = x_features.shape[-1]\n",
    "\n",
    "ds = data_utils.TensorDataset(\n",
    "    Tensor(x_features), Tensor(y_features)\n",
    ")\n",
    "\n",
    "dataloader = data_utils.DataLoader(\n",
    "    ds,\n",
    "    batch_size=Config.BATCH_SIZE,\n",
    "    num_workers=Config.NUM_WORKERS,\n",
    "    shuffle=False, \n",
    ")\n",
    "\n",
    "prediction = {}\n",
    "mapes = {}\n",
    "mapes_own = {}\n",
    "for path in model_paths:\n",
    "    model = SequenceLearner.load_from_checkpoint(path).model.to(device).eval()\n",
    "    try:\n",
    "        prediction[path] = model(Tensor(x_features).view(1, -1, in_features).to(device))[0].detach().numpy()\n",
    "        pred_values = prediction[path]\n",
    "        tens_pred = torch.from_numpy(pred_values).squeeze(0)\n",
    "        tens_y = torch.from_numpy(y_features)\n",
    "        mapes[path] = mean_absolute_percentage_error(tens_pred, tens_y).item()\n",
    "        \n",
    "        y_true = np.array(y_features[:, 0])\n",
    "        y_pred = np.array(pred_values[0, :, 0])\n",
    "        \n",
    "        non_zero_mask = y_true != 0\n",
    "        mapes_own[path] = np.nanmean(np.abs((y_true[non_zero_mask] - y_pred[non_zero_mask]) / y_true[non_zero_mask])) * 100\n",
    "        print(y_test)\n",
    "        print(y_pred)\n",
    "        print(np.nanmean(np.abs((y_true[non_zero_mask] - y_pred[non_zero_mask]) / y_true[non_zero_mask])) * 100)\n",
    "        \n",
    "    except Exception as e:\n",
    "        prediction[path] = f\"error for this model: {e}\"\n",
    "        print(\"error\")\n",
    "        pass    "
   ]
  },
  {
   "cell_type": "code",
   "execution_count": 201,
   "id": "996d449d-1294-4185-ba45-f76e4395ba42",
   "metadata": {},
   "outputs": [
    {
     "name": "stdout",
     "output_type": "stream",
     "text": [
      "predictions:  30\n",
      "errors:  10\n",
      "                                                                                index  \\\n",
      "0       checkpoints/model-lnn_units=8-lr=0.0001-num_epochs=10-lnn_modified=False.ckpt   \n",
      "1        checkpoints/model-lnn_units=8-lr=0.0001-num_epochs=10-lnn_modified=True.ckpt   \n",
      "2     checkpoints/model-lnn_units=16-lr=0.01-num_epochs=10-lnn_modified=False-v3.ckpt   \n",
      "3      checkpoints/model-lnn_units=32-lr=0.0001-num_epochs=10-lnn_modified=False.ckpt   \n",
      "4        checkpoints/model-lnn_units=32-lr=0.01-num_epochs=10-lnn_modified=False.ckpt   \n",
      "5     checkpoints/model-lnn_units=16-lr=0.01-num_epochs=10-lnn_modified=False-v4.ckpt   \n",
      "6      checkpoints/model-lnn_units=16-lr=0.01-num_epochs=10-lnn_modified=True-v3.ckpt   \n",
      "7     checkpoints/model-lnn_units=16-lr=0.01-num_epochs=10-lnn_modified=False-v5.ckpt   \n",
      "8   checkpoints/model-lnn_units=16-lr=0.0001-num_epochs=10-lnn_modified=False-v1.ckpt   \n",
      "9     checkpoints/model-lnn_units=16-lr=0.01-num_epochs=10-lnn_modified=False-v6.ckpt   \n",
      "10    checkpoints/model-lnn_units=16-lr=0.01-num_epochs=10-lnn_modified=False-v2.ckpt   \n",
      "11    checkpoints/model-lnn_units=16-lr=0.01-num_epochs=10-lnn_modified=False-v1.ckpt   \n",
      "12   checkpoints/model-lnn_units=16-lr=0.0001-num_epochs=10-lnn_modified=True-v1.ckpt   \n",
      "13     checkpoints/model-lnn_units=16-lr=0.01-num_epochs=10-lnn_modified=True-v1.ckpt   \n",
      "14        checkpoints/model-lnn_units=8-lr=0.01-num_epochs=10-lnn_modified=False.ckpt   \n",
      "15     checkpoints/model-lnn_units=16-lr=0.01-num_epochs=10-lnn_modified=True-v4.ckpt   \n",
      "16     checkpoints/model-lnn_units=16-lr=0.01-num_epochs=10-lnn_modified=True-v2.ckpt   \n",
      "17        checkpoints/model-lnn_units=32-lr=0.01-num_epochs=10-lnn_modified=True.ckpt   \n",
      "18         checkpoints/model-lnn_units=8-lr=0.01-num_epochs=10-lnn_modified=True.ckpt   \n",
      "19      checkpoints/model-lnn_units=32-lr=0.0001-num_epochs=10-lnn_modified=True.ckpt   \n",
      "\n",
      "          MAPE  \n",
      "0    55.821380  \n",
      "1    69.385561  \n",
      "2    84.519149  \n",
      "3    91.665400  \n",
      "4    95.317536  \n",
      "5   101.104739  \n",
      "6   109.137088  \n",
      "7   121.889501  \n",
      "8   122.397412  \n",
      "9   128.940793  \n",
      "10  129.431950  \n",
      "11  145.535869  \n",
      "12  145.704890  \n",
      "13  151.414760  \n",
      "14  157.439874  \n",
      "15  188.154573  \n",
      "16  217.083872  \n",
      "17  229.983840  \n",
      "18  236.217802  \n",
      "19  245.986109  \n",
      "index    checkpoints/model-lnn_units=8-lr=0.0001-num_epochs=10-lnn_modified=False.ckpt\n",
      "MAPE                                                                          55.82138\n",
      "Name: 0, dtype: object\n",
      "checkpoints/model-lnn_units=8-lr=0.0001-num_epochs=10-lnn_modified=True.ckpt\n"
     ]
    },
    {
     "name": "stderr",
     "output_type": "stream",
     "text": [
      "C:\\Users\\VID\\AppData\\Local\\Temp/ipykernel_1571016/163944535.py:2: FutureWarning: elementwise comparison failed; returning scalar instead, but in the future will perform elementwise comparison\n",
      "  errors_while_loading = [\"error\" for key, value in prediction.items() if \"error\" in value]\n"
     ]
    }
   ],
   "source": [
    "pd.set_option(\"display.max_colwidth\", None)\n",
    "errors_while_loading = [\"error\" for key, value in prediction.items() if \"error\" in value]\n",
    "print(\"predictions: \", len(prediction))\n",
    "print(\"errors: \", len(errors_while_loading))\n",
    "\n",
    "\n",
    "mape_results = pd.DataFrame(mapes_own, index=[0]).T.rename(columns={0: \"MAPE\"}).sort_values(by=\"MAPE\").reset_index()\n",
    "print(mape_results)\n",
    "\n",
    "print(mape_results.iloc[0])\n",
    "print(mape_results.iloc[1][\"index\"])"
   ]
  },
  {
   "cell_type": "code",
   "execution_count": 206,
   "id": "035ee2ce-38ed-48bb-b86d-5457b0d9c9dc",
   "metadata": {},
   "outputs": [
    {
     "name": "stderr",
     "output_type": "stream",
     "text": [
      "C:\\Users\\VID\\AppData\\Local\\Temp/ipykernel_1571016/3805351985.py:2: FutureWarning: elementwise comparison failed; returning scalar instead, but in the future will perform elementwise comparison\n",
      "  if \"error\" in value:\n",
      "C:\\Users\\VID\\AppData\\Local\\Temp/ipykernel_1571016/3805351985.py:2: FutureWarning: elementwise comparison failed; returning scalar instead, but in the future will perform elementwise comparison\n",
      "  if \"error\" in value:\n",
      "C:\\Users\\VID\\AppData\\Local\\Temp/ipykernel_1571016/3805351985.py:2: FutureWarning: elementwise comparison failed; returning scalar instead, but in the future will perform elementwise comparison\n",
      "  if \"error\" in value:\n",
      "C:\\Users\\VID\\AppData\\Local\\Temp/ipykernel_1571016/3805351985.py:2: FutureWarning: elementwise comparison failed; returning scalar instead, but in the future will perform elementwise comparison\n",
      "  if \"error\" in value:\n",
      "C:\\Users\\VID\\AppData\\Local\\Temp/ipykernel_1571016/3805351985.py:2: FutureWarning: elementwise comparison failed; returning scalar instead, but in the future will perform elementwise comparison\n",
      "  if \"error\" in value:\n",
      "C:\\Users\\VID\\AppData\\Local\\Temp/ipykernel_1571016/3805351985.py:2: FutureWarning: elementwise comparison failed; returning scalar instead, but in the future will perform elementwise comparison\n",
      "  if \"error\" in value:\n",
      "C:\\Users\\VID\\AppData\\Local\\Temp/ipykernel_1571016/3805351985.py:2: FutureWarning: elementwise comparison failed; returning scalar instead, but in the future will perform elementwise comparison\n",
      "  if \"error\" in value:\n",
      "C:\\Users\\VID\\AppData\\Local\\Temp/ipykernel_1571016/3805351985.py:2: FutureWarning: elementwise comparison failed; returning scalar instead, but in the future will perform elementwise comparison\n",
      "  if \"error\" in value:\n",
      "C:\\Users\\VID\\AppData\\Local\\Temp/ipykernel_1571016/3805351985.py:2: FutureWarning: elementwise comparison failed; returning scalar instead, but in the future will perform elementwise comparison\n",
      "  if \"error\" in value:\n",
      "C:\\Users\\VID\\AppData\\Local\\Temp/ipykernel_1571016/3805351985.py:2: FutureWarning: elementwise comparison failed; returning scalar instead, but in the future will perform elementwise comparison\n",
      "  if \"error\" in value:\n",
      "C:\\Users\\VID\\AppData\\Local\\Temp/ipykernel_1571016/3805351985.py:2: FutureWarning: elementwise comparison failed; returning scalar instead, but in the future will perform elementwise comparison\n",
      "  if \"error\" in value:\n",
      "C:\\Users\\VID\\AppData\\Local\\Temp/ipykernel_1571016/3805351985.py:2: FutureWarning: elementwise comparison failed; returning scalar instead, but in the future will perform elementwise comparison\n",
      "  if \"error\" in value:\n",
      "C:\\Users\\VID\\AppData\\Local\\Temp/ipykernel_1571016/3805351985.py:2: FutureWarning: elementwise comparison failed; returning scalar instead, but in the future will perform elementwise comparison\n",
      "  if \"error\" in value:\n",
      "C:\\Users\\VID\\AppData\\Local\\Temp/ipykernel_1571016/3805351985.py:2: FutureWarning: elementwise comparison failed; returning scalar instead, but in the future will perform elementwise comparison\n",
      "  if \"error\" in value:\n",
      "C:\\Users\\VID\\AppData\\Local\\Temp/ipykernel_1571016/3805351985.py:2: FutureWarning: elementwise comparison failed; returning scalar instead, but in the future will perform elementwise comparison\n",
      "  if \"error\" in value:\n",
      "C:\\Users\\VID\\AppData\\Local\\Temp/ipykernel_1571016/3805351985.py:2: FutureWarning: elementwise comparison failed; returning scalar instead, but in the future will perform elementwise comparison\n",
      "  if \"error\" in value:\n",
      "C:\\Users\\VID\\AppData\\Local\\Temp/ipykernel_1571016/3805351985.py:2: FutureWarning: elementwise comparison failed; returning scalar instead, but in the future will perform elementwise comparison\n",
      "  if \"error\" in value:\n",
      "C:\\Users\\VID\\AppData\\Local\\Temp/ipykernel_1571016/3805351985.py:2: FutureWarning: elementwise comparison failed; returning scalar instead, but in the future will perform elementwise comparison\n",
      "  if \"error\" in value:\n",
      "C:\\Users\\VID\\AppData\\Local\\Temp/ipykernel_1571016/3805351985.py:2: FutureWarning: elementwise comparison failed; returning scalar instead, but in the future will perform elementwise comparison\n",
      "  if \"error\" in value:\n",
      "C:\\Users\\VID\\AppData\\Local\\Temp/ipykernel_1571016/3805351985.py:2: FutureWarning: elementwise comparison failed; returning scalar instead, but in the future will perform elementwise comparison\n",
      "  if \"error\" in value:\n"
     ]
    }
   ],
   "source": [
    "for key, value in prediction.items():\n",
    "    if \"error\" in value:\n",
    "        pass \n",
    "    else:\n",
    "        error_torch = round(mapes[key],0)\n",
    "        error_own = round(mapes_own[key],0)\n",
    "        name = \"checkpoints_plots/\" + key.split(\"/\")[1] + \".png\" + \"\\n\" + \"TORCH_MAPE: \" + str(error_torch) + \"OWN_MAPE: \" + str(error_own)\n",
    "        name_for_save = \"checkpoints_plots/\" + key.split(\"/\")[1] + \".png\"\n",
    "        sns.set_theme()\n",
    "        plt.figure(figsize=(15, 10))\n",
    "        plt.plot(y_features[:, 0], label=\"Target output\")\n",
    "        plt.plot(value[0, :, 0], label=\"NCP output\")\n",
    "\n",
    "        plt.title(f\"After Training\\n{name}\")\n",
    "        plt.legend(loc=\"upper right\")\n",
    "        plt.savefig(name_for_save)\n",
    "        plt.close()\n",
    "\n",
    "# value = prediction[mape_results.iloc[2][\"index\"]]\n",
    "# name = str(mape_results.iloc[2][\"index\"])\n",
    "# sns.set_theme()\n",
    "# plt.figure(figsize=(15, 10))\n",
    "# plt.plot(y_features[:, 0], label=\"Target output\")\n",
    "# plt.plot(value[0, :, 0], label=\"NCP output\")\n",
    "# plt.ylim([-0.5,1])\n",
    "\n",
    "# plt.title(f\"After Training\\n{name}\")\n",
    "# plt.legend(loc=\"upper right\")\n",
    "# plt.savefig(name)\n"
   ]
  }
 ],
 "metadata": {
  "kernelspec": {
   "display_name": "Python 3 (ipykernel)",
   "language": "python",
   "name": "python3"
  },
  "language_info": {
   "codemirror_mode": {
    "name": "ipython",
    "version": 3
   },
   "file_extension": ".py",
   "mimetype": "text/x-python",
   "name": "python",
   "nbconvert_exporter": "python",
   "pygments_lexer": "ipython3",
   "version": "3.9.7"
  }
 },
 "nbformat": 4,
 "nbformat_minor": 5
}
